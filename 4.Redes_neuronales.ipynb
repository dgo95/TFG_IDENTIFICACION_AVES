{
  "nbformat": 4,
  "nbformat_minor": 0,
  "metadata": {
    "colab": {
      "provenance": [],
      "machine_shape": "hm",
      "mount_file_id": "1Oqo7tCEvGfJie3a6WBQ44ydjnaKhYU_P",
      "authorship_tag": "ABX9TyNECkyHrG0q3ZMytoNeWN+T",
      "include_colab_link": true
    },
    "kernelspec": {
      "name": "python3",
      "display_name": "Python 3"
    },
    "language_info": {
      "name": "python"
    },
    "accelerator": "GPU",
    "gpuClass": "standard"
  },
  "cells": [
    {
      "cell_type": "markdown",
      "metadata": {
        "id": "view-in-github",
        "colab_type": "text"
      },
      "source": [
        "<a href=\"https://colab.research.google.com/github/dgo95/TFG_IDENTIFICACION_AVES/blob/main/4.Redes_neuronales.ipynb\" target=\"_parent\"><img src=\"https://colab.research.google.com/assets/colab-badge.svg\" alt=\"Open In Colab\"/></a>"
      ]
    },
    {
      "cell_type": "code",
      "execution_count": null,
      "metadata": {
        "colab": {
          "base_uri": "https://localhost:8080/"
        },
        "id": "kIe5rEvfWAEV",
        "outputId": "8b55fab3-709d-4e20-c5ac-de6bb487fcc0"
      },
      "outputs": [
        {
          "output_type": "stream",
          "name": "stdout",
          "text": [
            "Drive already mounted at /content/drive; to attempt to forcibly remount, call drive.mount(\"/content/drive\", force_remount=True).\n"
          ]
        }
      ],
      "source": [
        "from google.colab import drive\n",
        "drive.mount('/content/drive')"
      ]
    },
    {
      "cell_type": "code",
      "source": [
        "!pip install tensorflow==2.8\n",
        "!apt install --allow-change-held-packages libcudnn8=8.1.0.77-1+cuda11.2"
      ],
      "metadata": {
        "id": "kxRzc1Jd0PrI",
        "colab": {
          "base_uri": "https://localhost:8080/"
        },
        "outputId": "19fa6fab-4529-4012-d689-26e1e5d8b6e7"
      },
      "execution_count": null,
      "outputs": [
        {
          "output_type": "stream",
          "name": "stdout",
          "text": [
            "Looking in indexes: https://pypi.org/simple, https://us-python.pkg.dev/colab-wheels/public/simple/\n",
            "Collecting tensorflow==2.8\n",
            "  Downloading https://us-python.pkg.dev/colab-wheels/public/tensorflow/tensorflow-2.8.0%2Bzzzcolab20220506162203-cp37-cp37m-linux_x86_64.whl (668.3 MB)\n",
            "\u001b[K     |████████████████████████████████| 668.3 MB 17 kB/s \n",
            "\u001b[?25hRequirement already satisfied: numpy>=1.20 in /usr/local/lib/python3.7/dist-packages (from tensorflow==2.8) (1.21.6)\n",
            "Requirement already satisfied: libclang>=9.0.1 in /usr/local/lib/python3.7/dist-packages (from tensorflow==2.8) (14.0.6)\n",
            "Requirement already satisfied: gast>=0.2.1 in /usr/local/lib/python3.7/dist-packages (from tensorflow==2.8) (0.4.0)\n",
            "Requirement already satisfied: keras-preprocessing>=1.1.1 in /usr/local/lib/python3.7/dist-packages (from tensorflow==2.8) (1.1.2)\n",
            "Requirement already satisfied: termcolor>=1.1.0 in /usr/local/lib/python3.7/dist-packages (from tensorflow==2.8) (2.1.0)\n",
            "Requirement already satisfied: six>=1.12.0 in /usr/local/lib/python3.7/dist-packages (from tensorflow==2.8) (1.15.0)\n",
            "Requirement already satisfied: absl-py>=0.4.0 in /usr/local/lib/python3.7/dist-packages (from tensorflow==2.8) (1.3.0)\n",
            "Requirement already satisfied: flatbuffers>=1.12 in /usr/local/lib/python3.7/dist-packages (from tensorflow==2.8) (1.12)\n",
            "Collecting tensorboard<2.9,>=2.8\n",
            "  Downloading tensorboard-2.8.0-py3-none-any.whl (5.8 MB)\n",
            "\u001b[K     |████████████████████████████████| 5.8 MB 4.3 MB/s \n",
            "\u001b[?25hRequirement already satisfied: setuptools in /usr/local/lib/python3.7/dist-packages (from tensorflow==2.8) (57.4.0)\n",
            "Requirement already satisfied: wrapt>=1.11.0 in /usr/local/lib/python3.7/dist-packages (from tensorflow==2.8) (1.14.1)\n",
            "Requirement already satisfied: opt-einsum>=2.3.2 in /usr/local/lib/python3.7/dist-packages (from tensorflow==2.8) (3.3.0)\n",
            "Requirement already satisfied: protobuf>=3.9.2 in /usr/local/lib/python3.7/dist-packages (from tensorflow==2.8) (3.19.6)\n",
            "Collecting keras<2.9,>=2.8.0rc0\n",
            "  Downloading keras-2.8.0-py2.py3-none-any.whl (1.4 MB)\n",
            "\u001b[K     |████████████████████████████████| 1.4 MB 67.1 MB/s \n",
            "\u001b[?25hRequirement already satisfied: typing-extensions>=3.6.6 in /usr/local/lib/python3.7/dist-packages (from tensorflow==2.8) (4.1.1)\n",
            "Requirement already satisfied: tensorflow-io-gcs-filesystem>=0.23.1 in /usr/local/lib/python3.7/dist-packages (from tensorflow==2.8) (0.27.0)\n",
            "Requirement already satisfied: grpcio<2.0,>=1.24.3 in /usr/local/lib/python3.7/dist-packages (from tensorflow==2.8) (1.50.0)\n",
            "Requirement already satisfied: h5py>=2.9.0 in /usr/local/lib/python3.7/dist-packages (from tensorflow==2.8) (3.1.0)\n",
            "Requirement already satisfied: google-pasta>=0.1.1 in /usr/local/lib/python3.7/dist-packages (from tensorflow==2.8) (0.2.0)\n",
            "Requirement already satisfied: astunparse>=1.6.0 in /usr/local/lib/python3.7/dist-packages (from tensorflow==2.8) (1.6.3)\n",
            "Collecting tf-estimator-nightly==2.8.0.dev2021122109\n",
            "  Downloading tf_estimator_nightly-2.8.0.dev2021122109-py2.py3-none-any.whl (462 kB)\n",
            "\u001b[K     |████████████████████████████████| 462 kB 76.6 MB/s \n",
            "\u001b[?25hRequirement already satisfied: wheel<1.0,>=0.23.0 in /usr/local/lib/python3.7/dist-packages (from astunparse>=1.6.0->tensorflow==2.8) (0.38.3)\n",
            "Requirement already satisfied: cached-property in /usr/local/lib/python3.7/dist-packages (from h5py>=2.9.0->tensorflow==2.8) (1.5.2)\n",
            "Requirement already satisfied: tensorboard-plugin-wit>=1.6.0 in /usr/local/lib/python3.7/dist-packages (from tensorboard<2.9,>=2.8->tensorflow==2.8) (1.8.1)\n",
            "Requirement already satisfied: google-auth-oauthlib<0.5,>=0.4.1 in /usr/local/lib/python3.7/dist-packages (from tensorboard<2.9,>=2.8->tensorflow==2.8) (0.4.6)\n",
            "Requirement already satisfied: google-auth<3,>=1.6.3 in /usr/local/lib/python3.7/dist-packages (from tensorboard<2.9,>=2.8->tensorflow==2.8) (2.14.1)\n",
            "Requirement already satisfied: markdown>=2.6.8 in /usr/local/lib/python3.7/dist-packages (from tensorboard<2.9,>=2.8->tensorflow==2.8) (3.4.1)\n",
            "Requirement already satisfied: requests<3,>=2.21.0 in /usr/local/lib/python3.7/dist-packages (from tensorboard<2.9,>=2.8->tensorflow==2.8) (2.23.0)\n",
            "Requirement already satisfied: tensorboard-data-server<0.7.0,>=0.6.0 in /usr/local/lib/python3.7/dist-packages (from tensorboard<2.9,>=2.8->tensorflow==2.8) (0.6.1)\n",
            "Requirement already satisfied: werkzeug>=0.11.15 in /usr/local/lib/python3.7/dist-packages (from tensorboard<2.9,>=2.8->tensorflow==2.8) (1.0.1)\n",
            "Requirement already satisfied: cachetools<6.0,>=2.0.0 in /usr/local/lib/python3.7/dist-packages (from google-auth<3,>=1.6.3->tensorboard<2.9,>=2.8->tensorflow==2.8) (5.2.0)\n",
            "Requirement already satisfied: pyasn1-modules>=0.2.1 in /usr/local/lib/python3.7/dist-packages (from google-auth<3,>=1.6.3->tensorboard<2.9,>=2.8->tensorflow==2.8) (0.2.8)\n",
            "Requirement already satisfied: rsa<5,>=3.1.4 in /usr/local/lib/python3.7/dist-packages (from google-auth<3,>=1.6.3->tensorboard<2.9,>=2.8->tensorflow==2.8) (4.9)\n",
            "Requirement already satisfied: requests-oauthlib>=0.7.0 in /usr/local/lib/python3.7/dist-packages (from google-auth-oauthlib<0.5,>=0.4.1->tensorboard<2.9,>=2.8->tensorflow==2.8) (1.3.1)\n",
            "Requirement already satisfied: importlib-metadata>=4.4 in /usr/local/lib/python3.7/dist-packages (from markdown>=2.6.8->tensorboard<2.9,>=2.8->tensorflow==2.8) (4.13.0)\n",
            "Requirement already satisfied: zipp>=0.5 in /usr/local/lib/python3.7/dist-packages (from importlib-metadata>=4.4->markdown>=2.6.8->tensorboard<2.9,>=2.8->tensorflow==2.8) (3.10.0)\n",
            "Requirement already satisfied: pyasn1<0.5.0,>=0.4.6 in /usr/local/lib/python3.7/dist-packages (from pyasn1-modules>=0.2.1->google-auth<3,>=1.6.3->tensorboard<2.9,>=2.8->tensorflow==2.8) (0.4.8)\n",
            "Requirement already satisfied: idna<3,>=2.5 in /usr/local/lib/python3.7/dist-packages (from requests<3,>=2.21.0->tensorboard<2.9,>=2.8->tensorflow==2.8) (2.10)\n",
            "Requirement already satisfied: urllib3!=1.25.0,!=1.25.1,<1.26,>=1.21.1 in /usr/local/lib/python3.7/dist-packages (from requests<3,>=2.21.0->tensorboard<2.9,>=2.8->tensorflow==2.8) (1.24.3)\n",
            "Requirement already satisfied: certifi>=2017.4.17 in /usr/local/lib/python3.7/dist-packages (from requests<3,>=2.21.0->tensorboard<2.9,>=2.8->tensorflow==2.8) (2022.9.24)\n",
            "Requirement already satisfied: chardet<4,>=3.0.2 in /usr/local/lib/python3.7/dist-packages (from requests<3,>=2.21.0->tensorboard<2.9,>=2.8->tensorflow==2.8) (3.0.4)\n",
            "Requirement already satisfied: oauthlib>=3.0.0 in /usr/local/lib/python3.7/dist-packages (from requests-oauthlib>=0.7.0->google-auth-oauthlib<0.5,>=0.4.1->tensorboard<2.9,>=2.8->tensorflow==2.8) (3.2.2)\n",
            "Installing collected packages: tf-estimator-nightly, tensorboard, keras, tensorflow\n",
            "  Attempting uninstall: tensorboard\n",
            "    Found existing installation: tensorboard 2.9.1\n",
            "    Uninstalling tensorboard-2.9.1:\n",
            "      Successfully uninstalled tensorboard-2.9.1\n",
            "  Attempting uninstall: keras\n",
            "    Found existing installation: keras 2.9.0\n",
            "    Uninstalling keras-2.9.0:\n",
            "      Successfully uninstalled keras-2.9.0\n",
            "  Attempting uninstall: tensorflow\n",
            "    Found existing installation: tensorflow 2.9.2\n",
            "    Uninstalling tensorflow-2.9.2:\n",
            "      Successfully uninstalled tensorflow-2.9.2\n",
            "Successfully installed keras-2.8.0 tensorboard-2.8.0 tensorflow-2.8.0+zzzcolab20220506162203 tf-estimator-nightly-2.8.0.dev2021122109\n",
            "Reading package lists... Done\n",
            "Building dependency tree       \n",
            "Reading state information... Done\n",
            "The following package was automatically installed and is no longer required:\n",
            "  libnvidia-common-460\n",
            "Use 'apt autoremove' to remove it.\n",
            "The following packages will be REMOVED:\n",
            "  libcudnn8-dev\n",
            "The following held packages will be changed:\n",
            "  libcudnn8\n",
            "The following packages will be DOWNGRADED:\n",
            "  libcudnn8\n",
            "0 upgraded, 0 newly installed, 1 downgraded, 1 to remove and 3 not upgraded.\n",
            "Need to get 430 MB of archives.\n",
            "After this operation, 1,392 MB disk space will be freed.\n",
            "Get:1 https://developer.download.nvidia.com/compute/cuda/repos/ubuntu1804/x86_64  libcudnn8 8.1.0.77-1+cuda11.2 [430 MB]\n",
            "Fetched 430 MB in 6s (69.2 MB/s)\n",
            "(Reading database ... 123942 files and directories currently installed.)\n",
            "Removing libcudnn8-dev (8.1.1.33-1+cuda11.2) ...\n",
            "update-alternatives: removing manually selected alternative - switching libcudnn to auto mode\n",
            "\u001b[1mdpkg:\u001b[0m \u001b[1;33mwarning:\u001b[0m downgrading libcudnn8 from 8.1.1.33-1+cuda11.2 to 8.1.0.77-1+cuda11.2\n",
            "(Reading database ... 123919 files and directories currently installed.)\n",
            "Preparing to unpack .../libcudnn8_8.1.0.77-1+cuda11.2_amd64.deb ...\n",
            "Unpacking libcudnn8 (8.1.0.77-1+cuda11.2) over (8.1.1.33-1+cuda11.2) ...\n",
            "Setting up libcudnn8 (8.1.0.77-1+cuda11.2) ...\n"
          ]
        }
      ]
    },
    {
      "cell_type": "code",
      "source": [
        "from keras.applications.efficientnet import preprocess_input\n",
        "from sklearn.metrics import classification_report, confusion_matrix\n",
        "from sklearn.model_selection import train_test_split\n",
        "from sklearn.utils import class_weight\n",
        "from tensorflow.keras.callbacks import ModelCheckpoint, ReduceLROnPlateau\n",
        "from tensorflow.keras.layers import Dense, Activation, Dropout, Flatten\n",
        "from tensorflow.keras.models import Sequential, Model\n",
        "from tensorflow.keras.optimizers import Adam\n",
        "from tensorflow.keras.preprocessing.image import ImageDataGenerator\n",
        "from tensorflow.keras.utils import to_categorical\n",
        "import IPython.display as ipd\n",
        "import librosa.display\n",
        "import matplotlib.pyplot as plt #Dibujo\n",
        "import numpy as np\n",
        "import os\n",
        "import pandas as pd\n",
        "import seaborn as sns\n",
        "os.environ[\"KMP_DUPLICATE_LIB_OK\"]=\"TRUE\"\n",
        "import tensorflow as tf\n",
        "import tensorflow.keras.activations as nn\n",
        "import time as tempo\n"
      ],
      "metadata": {
        "id": "m4aWt4QO0WzR"
      },
      "execution_count": null,
      "outputs": []
    },
    {
      "cell_type": "code",
      "source": [
        "def enHorasYMinutos(seg):\n",
        "    horas = seg // 3600\n",
        "    seg = seg - horas * 3600\n",
        "    minutos = seg // 60\n",
        "    seg = seg - minutos *60\n",
        "    aux = str(int(horas))+\" horas \"+str(int(minutos))+\" minutos y \"+str(int(seg))+\" segundos\"\n",
        "    return aux"
      ],
      "metadata": {
        "id": "Zdxd3wTL0bNi"
      },
      "execution_count": null,
      "outputs": []
    },
    {
      "cell_type": "code",
      "source": [
        "EPOCAS = 100\n",
        "lr = 0.01\n",
        "#cargar datos\n",
        "train_images = []\n",
        "train_labels = []\n",
        "test_images = []\n",
        "test_labels = []\n",
        "# lectura de los datos\n",
        "\n",
        "path = os.path.join('drive',\"MyDrive\",\"Colab Notebooks\", \"Cuaderno1\")\n",
        "entrenamientoPath=os.path.join(path,\"DataSet\",\"Espectrogramas\", \"train\")\n",
        "testPath = os.path.join(path,\"DataSet\",\"Espectrogramas\", \"test\")\n",
        "valPath = os.path.join(path,\"DataSet\",\"Espectrogramas\", \"val\")\n",
        "etiqueta = 0\n",
        "leyenda = {}\n",
        "IM_SIZE1 = (216, 216)\n",
        "IM_SIZE = (216, 216,3)\n",
        "BIRDS = []\n",
        "BATCH_SIZE = 16\n",
        "densenet121=(tf.keras.applications.densenet.DenseNet121,\"densenet121.h5\")\n",
        "resnet50=(tf.keras.applications.resnet_v2.ResNet50V2,\"resnet50.h5\")\n",
        "inceptionv3=(tf.keras.applications.inception_v3.InceptionV3,\"inceptionv3tres.h5\")\n",
        "efficientnet=(tf.keras.applications.efficientnet.EfficientNetB3,\"efficientnetB3.h5\")\n",
        "efficientnetB4=(tf.keras.applications.efficientnet.EfficientNetB4,\"efficientnetB4.h5\")\n",
        "\n",
        "redNeuroanl , h5 =resnet50\n",
        "h5 = os.path.join(path,h5)"
      ],
      "metadata": {
        "id": "JAEqyuJD0gUl"
      },
      "execution_count": null,
      "outputs": []
    },
    {
      "cell_type": "code",
      "source": [
        "for nombre_directorio, dirs, ficheros in os.walk(entrenamientoPath):\n",
        "  if nombre_directorio == entrenamientoPath:\n",
        "    continue\n",
        "  BIRDS.append(nombre_directorio.replace('drive/MyDrive/Colab Notebooks/Cuaderno1/DataSet/Espectrogramas/train/',\"\"))\n",
        "  leyenda[nombre_directorio.replace('drive/MyDrive/Colab Notebooks/Cuaderno1/DataSet/Espectrogramas/train/',\"\")] = etiqueta\n",
        "  etiqueta = etiqueta + 1"
      ],
      "metadata": {
        "id": "NazJKgAg0gcs"
      },
      "execution_count": null,
      "outputs": []
    },
    {
      "cell_type": "code",
      "source": [
        "train_datagen = ImageDataGenerator(\n",
        "    preprocessing_function=preprocess_input,\n",
        "    width_shift_range=0.2,\n",
        "    height_shift_range=0.2,\n",
        "    shear_range=0.2,\n",
        "    zoom_range=0.1,\n",
        "    fill_mode=\"nearest\",\n",
        ")\n",
        "train_batches = train_datagen.flow_from_directory(\n",
        "    entrenamientoPath,\n",
        "    classes=BIRDS,\n",
        "    target_size=IM_SIZE1,\n",
        "    color_mode='rgb',\n",
        "    class_mode=\"categorical\",\n",
        "    shuffle=True,\n",
        "    batch_size=BATCH_SIZE,\n",
        ")\n",
        "valid_datagen = ImageDataGenerator(preprocessing_function=preprocess_input)\n",
        "valid_batches = valid_datagen.flow_from_directory(\n",
        "    valPath,\n",
        "    classes=BIRDS,\n",
        "    target_size=IM_SIZE1,\n",
        "    color_mode='rgb',\n",
        "    class_mode=\"categorical\",\n",
        "    shuffle=False,\n",
        "    batch_size=BATCH_SIZE,\n",
        ")\n",
        "\n",
        "test_datagen = ImageDataGenerator(preprocessing_function=preprocess_input)\n",
        "test_batches = test_datagen.flow_from_directory(\n",
        "    testPath,\n",
        "    classes=BIRDS,\n",
        "    target_size=IM_SIZE1,\n",
        "    class_mode=\"categorical\",\n",
        "    shuffle=False,\n",
        "    batch_size=BATCH_SIZE,\n",
        ")"
      ],
      "metadata": {
        "colab": {
          "base_uri": "https://localhost:8080/"
        },
        "id": "A0OKRkaR2HqQ",
        "outputId": "86f231a7-e05a-4b92-9f6c-39f9c6908cec"
      },
      "execution_count": null,
      "outputs": [
        {
          "output_type": "stream",
          "name": "stdout",
          "text": [
            "Found 722 images belonging to 3 classes.\n",
            "Found 90 images belonging to 3 classes.\n",
            "Found 87 images belonging to 3 classes.\n"
          ]
        }
      ]
    },
    {
      "cell_type": "code",
      "source": [
        "net = redNeuroanl(\n",
        "    include_top=False, weights=\"imagenet\", input_tensor=None, input_shape=IM_SIZE\n",
        ")\n",
        "x = net.output\n",
        "x = Flatten()(x)\n",
        "x = Dropout(0.5)(x)\n",
        "output_layer = Dense(len(BIRDS), activation=\"softmax\", name=\"softmax\")(x)\n",
        "\n",
        "model = Model(inputs=net.input, outputs=output_layer)\n",
        "sgd = tf.keras.optimizers.SGD(\n",
        "    learning_rate=lr,\n",
        "    momentum=0.9)\n",
        "model.compile(optimizer=Adam(), loss=\"categorical_crossentropy\", metrics=[\"accuracy\"])"
      ],
      "metadata": {
        "id": "CyWfkUgv1PlB",
        "colab": {
          "base_uri": "https://localhost:8080/"
        },
        "outputId": "588c1f2a-8046-4588-ad10-46d6e0d654bd"
      },
      "execution_count": null,
      "outputs": [
        {
          "output_type": "stream",
          "name": "stdout",
          "text": [
            "Downloading data from https://storage.googleapis.com/tensorflow/keras-applications/resnet/resnet50v2_weights_tf_dim_ordering_tf_kernels_notop.h5\n",
            "94674944/94668760 [==============================] - 4s 0us/step\n",
            "94683136/94668760 [==============================] - 4s 0us/step\n"
          ]
        }
      ]
    },
    {
      "cell_type": "code",
      "source": [
        "# Estimate class weights for unbalanced dataset\n",
        "class_weights = class_weight.compute_class_weight(\"balanced\", \n",
        "                                                  classes=np.unique(train_batches.classes), \n",
        "                                                  y=train_batches.classes\n",
        ")\n",
        "# Define callbacks\n",
        "ModelCheck = ModelCheckpoint(\n",
        "    filepath=h5,\n",
        "    monitor=\"val_accuracy\",\n",
        "    save_best_only=True,\n",
        "    save_weights_only=True,\n",
        "    mode=\"auto\",\n",
        ")\n",
        "\n",
        "ReduceLR = ReduceLROnPlateau(monitor=\"val_accuracy\", factor=0.2, patience=5, min_lr=3e-4)\n",
        "\n",
        "cuenta = 0\n",
        "diccionario = {}\n",
        "for i in class_weights:\n",
        "  diccionario[cuenta] = i\n",
        "  cuenta = cuenta +1"
      ],
      "metadata": {
        "id": "cZ7m08-I3sHh"
      },
      "execution_count": null,
      "outputs": []
    },
    {
      "cell_type": "code",
      "source": [
        "STEP_SIZE_TRAIN=train_batches.n//train_batches.batch_size\n",
        "STEP_SIZE_VALID=valid_batches.n//valid_batches.batch_size"
      ],
      "metadata": {
        "id": "HpC3CktN35sl"
      },
      "execution_count": null,
      "outputs": []
    },
    {
      "cell_type": "code",
      "source": [
        "#model.load_weights(h5)\n",
        "tic=tempo.time()\n",
        "\n",
        "history = model.fit(\n",
        "    train_batches,\n",
        "    steps_per_epoch=STEP_SIZE_TRAIN,\n",
        "    validation_steps=STEP_SIZE_VALID,\n",
        "    validation_data=valid_batches,\n",
        "    epochs=EPOCAS,\n",
        "    class_weight=diccionario,\n",
        "    callbacks=[ModelCheck, ReduceLR],\n",
        ")\n",
        "\n",
        "print('Tiempo de procesamiento (secs): ', enHorasYMinutos(tempo.time()-tic))"
      ],
      "metadata": {
        "id": "eKIBvkSC1VbA",
        "colab": {
          "base_uri": "https://localhost:8080/"
        },
        "outputId": "939c7ac1-dee7-4780-e81e-20ca5729b4d7"
      },
      "execution_count": null,
      "outputs": [
        {
          "output_type": "stream",
          "name": "stdout",
          "text": [
            "Epoch 1/100\n",
            "45/45 [==============================] - 419s 9s/step - loss: 2.0181 - accuracy: 0.6091 - val_loss: 1614.2126 - val_accuracy: 0.4500 - lr: 0.0010\n",
            "Epoch 2/100\n",
            "45/45 [==============================] - 8s 180ms/step - loss: 2.8751 - accuracy: 0.7025 - val_loss: 7606217.5000 - val_accuracy: 0.2750 - lr: 0.0010\n",
            "Epoch 3/100\n",
            "45/45 [==============================] - 8s 180ms/step - loss: 3.4410 - accuracy: 0.4575 - val_loss: 2300234.5000 - val_accuracy: 0.3750 - lr: 0.0010\n",
            "Epoch 4/100\n",
            "45/45 [==============================] - 9s 193ms/step - loss: 6.3053 - accuracy: 0.3952 - val_loss: 1209818880.0000 - val_accuracy: 0.3750 - lr: 0.0010\n",
            "Epoch 5/100\n",
            "45/45 [==============================] - 8s 181ms/step - loss: 4.1027 - accuracy: 0.3159 - val_loss: 128420.3125 - val_accuracy: 0.4000 - lr: 0.0010\n",
            "Epoch 6/100\n",
            "45/45 [==============================] - 9s 208ms/step - loss: 3.7098 - accuracy: 0.4108 - val_loss: 64780.8984 - val_accuracy: 0.4750 - lr: 0.0010\n",
            "Epoch 7/100\n",
            "45/45 [==============================] - 9s 191ms/step - loss: 3.8793 - accuracy: 0.4193 - val_loss: 1426.8044 - val_accuracy: 0.6000 - lr: 0.0010\n",
            "Epoch 8/100\n",
            "45/45 [==============================] - 8s 185ms/step - loss: 3.4365 - accuracy: 0.4193 - val_loss: 839.0993 - val_accuracy: 0.6000 - lr: 0.0010\n",
            "Epoch 9/100\n",
            "45/45 [==============================] - 9s 207ms/step - loss: 3.5994 - accuracy: 0.4334 - val_loss: 1147.4236 - val_accuracy: 0.6250 - lr: 0.0010\n",
            "Epoch 10/100\n",
            "45/45 [==============================] - 8s 177ms/step - loss: 3.5913 - accuracy: 0.4419 - val_loss: 1.1034 - val_accuracy: 0.3750 - lr: 0.0010\n",
            "Epoch 11/100\n",
            "45/45 [==============================] - 8s 184ms/step - loss: 2.8153 - accuracy: 0.4207 - val_loss: 0.9686 - val_accuracy: 0.4625 - lr: 0.0010\n",
            "Epoch 12/100\n",
            "45/45 [==============================] - 8s 177ms/step - loss: 3.1945 - accuracy: 0.4051 - val_loss: 140.2232 - val_accuracy: 0.5000 - lr: 0.0010\n",
            "Epoch 13/100\n",
            "45/45 [==============================] - 8s 180ms/step - loss: 3.0302 - accuracy: 0.4051 - val_loss: 100.9394 - val_accuracy: 0.4625 - lr: 0.0010\n",
            "Epoch 14/100\n",
            "45/45 [==============================] - 8s 177ms/step - loss: 3.4171 - accuracy: 0.4235 - val_loss: 1.0654 - val_accuracy: 0.5625 - lr: 0.0010\n",
            "Epoch 15/100\n",
            "45/45 [==============================] - 8s 180ms/step - loss: 3.1153 - accuracy: 0.4278 - val_loss: 1.6437 - val_accuracy: 0.5125 - lr: 3.0000e-04\n",
            "Epoch 16/100\n",
            "45/45 [==============================] - 9s 195ms/step - loss: 2.1164 - accuracy: 0.4306 - val_loss: 1.7235 - val_accuracy: 0.5000 - lr: 3.0000e-04\n",
            "Epoch 17/100\n",
            "45/45 [==============================] - 8s 180ms/step - loss: 2.0511 - accuracy: 0.4377 - val_loss: 1.2717 - val_accuracy: 0.4500 - lr: 3.0000e-04\n",
            "Epoch 18/100\n",
            "45/45 [==============================] - 8s 179ms/step - loss: 2.2280 - accuracy: 0.4292 - val_loss: 0.9862 - val_accuracy: 0.4625 - lr: 3.0000e-04\n",
            "Epoch 19/100\n",
            "45/45 [==============================] - 8s 187ms/step - loss: 2.1847 - accuracy: 0.4207 - val_loss: 1.9156 - val_accuracy: 0.4750 - lr: 3.0000e-04\n",
            "Epoch 20/100\n",
            "45/45 [==============================] - 8s 183ms/step - loss: 1.8747 - accuracy: 0.4377 - val_loss: 1.0085 - val_accuracy: 0.4375 - lr: 3.0000e-04\n",
            "Epoch 21/100\n",
            "45/45 [==============================] - 8s 178ms/step - loss: 1.9188 - accuracy: 0.4419 - val_loss: 1.0306 - val_accuracy: 0.4125 - lr: 3.0000e-04\n",
            "Epoch 22/100\n",
            "45/45 [==============================] - 9s 197ms/step - loss: 1.8927 - accuracy: 0.4391 - val_loss: 1.0720 - val_accuracy: 0.4000 - lr: 3.0000e-04\n",
            "Epoch 23/100\n",
            "45/45 [==============================] - 8s 185ms/step - loss: 1.7219 - accuracy: 0.4419 - val_loss: 1.0894 - val_accuracy: 0.4000 - lr: 3.0000e-04\n",
            "Epoch 24/100\n",
            "45/45 [==============================] - 8s 185ms/step - loss: 1.6971 - accuracy: 0.4377 - val_loss: 1.1076 - val_accuracy: 0.3750 - lr: 3.0000e-04\n",
            "Epoch 25/100\n",
            "45/45 [==============================] - 8s 181ms/step - loss: 2.1672 - accuracy: 0.4319 - val_loss: 1.1075 - val_accuracy: 0.3750 - lr: 3.0000e-04\n",
            "Epoch 26/100\n",
            "45/45 [==============================] - 8s 182ms/step - loss: 1.7133 - accuracy: 0.4347 - val_loss: 1.1067 - val_accuracy: 0.3750 - lr: 3.0000e-04\n",
            "Epoch 27/100\n",
            "45/45 [==============================] - 8s 182ms/step - loss: 1.6606 - accuracy: 0.4348 - val_loss: 1.1085 - val_accuracy: 0.3750 - lr: 3.0000e-04\n",
            "Epoch 28/100\n",
            "45/45 [==============================] - 8s 181ms/step - loss: 2.0352 - accuracy: 0.4164 - val_loss: 0.9779 - val_accuracy: 0.4750 - lr: 3.0000e-04\n",
            "Epoch 29/100\n",
            "45/45 [==============================] - 9s 196ms/step - loss: 1.6465 - accuracy: 0.4278 - val_loss: 1.1068 - val_accuracy: 0.3750 - lr: 3.0000e-04\n",
            "Epoch 30/100\n",
            "45/45 [==============================] - 8s 178ms/step - loss: 1.6668 - accuracy: 0.4292 - val_loss: 1.1097 - val_accuracy: 0.3750 - lr: 3.0000e-04\n",
            "Epoch 31/100\n",
            "45/45 [==============================] - 8s 178ms/step - loss: 1.5619 - accuracy: 0.4235 - val_loss: 1.1102 - val_accuracy: 0.3750 - lr: 3.0000e-04\n",
            "Epoch 32/100\n",
            "45/45 [==============================] - 8s 178ms/step - loss: 1.9578 - accuracy: 0.4292 - val_loss: 1.1034 - val_accuracy: 0.3875 - lr: 3.0000e-04\n",
            "Epoch 33/100\n",
            "45/45 [==============================] - 8s 179ms/step - loss: 1.4155 - accuracy: 0.4419 - val_loss: 1.5415 - val_accuracy: 0.4500 - lr: 3.0000e-04\n",
            "Epoch 34/100\n",
            "45/45 [==============================] - 8s 177ms/step - loss: 1.5554 - accuracy: 0.4462 - val_loss: 0.9751 - val_accuracy: 0.4625 - lr: 3.0000e-04\n",
            "Epoch 35/100\n",
            "45/45 [==============================] - 9s 197ms/step - loss: 1.6358 - accuracy: 0.4504 - val_loss: 1.0864 - val_accuracy: 0.4250 - lr: 3.0000e-04\n",
            "Epoch 36/100\n",
            "45/45 [==============================] - 8s 184ms/step - loss: 1.6074 - accuracy: 0.4618 - val_loss: 1.1131 - val_accuracy: 0.3750 - lr: 3.0000e-04\n",
            "Epoch 37/100\n",
            "45/45 [==============================] - 8s 184ms/step - loss: 2.0776 - accuracy: 0.4504 - val_loss: 1.1132 - val_accuracy: 0.3750 - lr: 3.0000e-04\n",
            "Epoch 38/100\n",
            "45/45 [==============================] - 8s 180ms/step - loss: 1.9538 - accuracy: 0.4108 - val_loss: 1.0421 - val_accuracy: 0.5250 - lr: 3.0000e-04\n",
            "Epoch 39/100\n",
            "45/45 [==============================] - 8s 179ms/step - loss: 1.3071 - accuracy: 0.4533 - val_loss: 0.9979 - val_accuracy: 0.4875 - lr: 3.0000e-04\n",
            "Epoch 40/100\n",
            "45/45 [==============================] - 8s 185ms/step - loss: 1.5736 - accuracy: 0.4419 - val_loss: 0.9751 - val_accuracy: 0.5000 - lr: 3.0000e-04\n",
            "Epoch 41/100\n",
            "45/45 [==============================] - 8s 178ms/step - loss: 1.5586 - accuracy: 0.4490 - val_loss: 1.0346 - val_accuracy: 0.4500 - lr: 3.0000e-04\n",
            "Epoch 42/100\n",
            "45/45 [==============================] - 8s 180ms/step - loss: 1.5527 - accuracy: 0.4575 - val_loss: 1.1153 - val_accuracy: 0.3750 - lr: 3.0000e-04\n",
            "Epoch 43/100\n",
            "45/45 [==============================] - 8s 176ms/step - loss: 2.1464 - accuracy: 0.4433 - val_loss: 1.1146 - val_accuracy: 0.3750 - lr: 3.0000e-04\n",
            "Epoch 44/100\n",
            "45/45 [==============================] - 8s 181ms/step - loss: 1.5677 - accuracy: 0.4759 - val_loss: 1.0852 - val_accuracy: 0.4125 - lr: 3.0000e-04\n",
            "Epoch 45/100\n",
            "45/45 [==============================] - 9s 192ms/step - loss: 1.4265 - accuracy: 0.4773 - val_loss: 1.6219 - val_accuracy: 0.5750 - lr: 3.0000e-04\n",
            "Epoch 46/100\n",
            "45/45 [==============================] - 8s 178ms/step - loss: 1.8032 - accuracy: 0.4873 - val_loss: 0.9193 - val_accuracy: 0.5250 - lr: 3.0000e-04\n",
            "Epoch 47/100\n",
            "45/45 [==============================] - 8s 180ms/step - loss: 1.6329 - accuracy: 0.4788 - val_loss: 1.1058 - val_accuracy: 0.4000 - lr: 3.0000e-04\n",
            "Epoch 48/100\n",
            "45/45 [==============================] - 8s 180ms/step - loss: 1.8158 - accuracy: 0.4858 - val_loss: 1.1089 - val_accuracy: 0.4000 - lr: 3.0000e-04\n",
            "Epoch 49/100\n",
            "45/45 [==============================] - 8s 178ms/step - loss: 1.3759 - accuracy: 0.4873 - val_loss: 0.9791 - val_accuracy: 0.5375 - lr: 3.0000e-04\n",
            "Epoch 50/100\n",
            "45/45 [==============================] - 8s 179ms/step - loss: 1.3981 - accuracy: 0.4887 - val_loss: 0.8928 - val_accuracy: 0.5625 - lr: 3.0000e-04\n",
            "Epoch 51/100\n",
            "45/45 [==============================] - 9s 198ms/step - loss: 1.6807 - accuracy: 0.5000 - val_loss: 2.6994 - val_accuracy: 0.5375 - lr: 3.0000e-04\n",
            "Epoch 52/100\n",
            "45/45 [==============================] - 8s 179ms/step - loss: 1.3024 - accuracy: 0.5042 - val_loss: 1.0368 - val_accuracy: 0.4500 - lr: 3.0000e-04\n",
            "Epoch 53/100\n",
            "45/45 [==============================] - 8s 178ms/step - loss: 1.4347 - accuracy: 0.4858 - val_loss: 0.8776 - val_accuracy: 0.5750 - lr: 3.0000e-04\n",
            "Epoch 54/100\n",
            "45/45 [==============================] - 8s 178ms/step - loss: 1.0597 - accuracy: 0.5227 - val_loss: 0.9455 - val_accuracy: 0.5250 - lr: 3.0000e-04\n",
            "Epoch 55/100\n",
            "45/45 [==============================] - 8s 183ms/step - loss: 1.3118 - accuracy: 0.5028 - val_loss: 0.9544 - val_accuracy: 0.5000 - lr: 3.0000e-04\n",
            "Epoch 56/100\n",
            "45/45 [==============================] - 8s 180ms/step - loss: 1.5903 - accuracy: 0.5099 - val_loss: 1.6827 - val_accuracy: 0.4500 - lr: 3.0000e-04\n",
            "Epoch 57/100\n",
            "45/45 [==============================] - 10s 212ms/step - loss: 1.7231 - accuracy: 0.4901 - val_loss: 5.2694 - val_accuracy: 0.6625 - lr: 3.0000e-04\n",
            "Epoch 58/100\n",
            "45/45 [==============================] - 9s 188ms/step - loss: 1.5719 - accuracy: 0.4915 - val_loss: 0.9199 - val_accuracy: 0.5250 - lr: 3.0000e-04\n",
            "Epoch 59/100\n",
            "45/45 [==============================] - 8s 184ms/step - loss: 1.4507 - accuracy: 0.5156 - val_loss: 1.1144 - val_accuracy: 0.3875 - lr: 3.0000e-04\n",
            "Epoch 60/100\n",
            "45/45 [==============================] - 8s 183ms/step - loss: 2.0949 - accuracy: 0.5312 - val_loss: 1.0890 - val_accuracy: 0.4125 - lr: 3.0000e-04\n",
            "Epoch 61/100\n",
            "45/45 [==============================] - 9s 187ms/step - loss: 1.8225 - accuracy: 0.5297 - val_loss: 15.0651 - val_accuracy: 0.5625 - lr: 3.0000e-04\n",
            "Epoch 62/100\n",
            "45/45 [==============================] - 8s 183ms/step - loss: 1.8112 - accuracy: 0.4943 - val_loss: 11.7048 - val_accuracy: 0.5875 - lr: 3.0000e-04\n",
            "Epoch 63/100\n",
            "45/45 [==============================] - 8s 180ms/step - loss: 1.9339 - accuracy: 0.4929 - val_loss: 90.9620 - val_accuracy: 0.6250 - lr: 3.0000e-04\n",
            "Epoch 64/100\n",
            "45/45 [==============================] - 9s 196ms/step - loss: 1.4581 - accuracy: 0.4943 - val_loss: 1.1227 - val_accuracy: 0.3875 - lr: 3.0000e-04\n",
            "Epoch 65/100\n",
            "45/45 [==============================] - 8s 182ms/step - loss: 1.8577 - accuracy: 0.5170 - val_loss: 6.1533 - val_accuracy: 0.5750 - lr: 3.0000e-04\n",
            "Epoch 66/100\n",
            "45/45 [==============================] - 8s 183ms/step - loss: 1.6580 - accuracy: 0.5397 - val_loss: 17.5307 - val_accuracy: 0.6000 - lr: 3.0000e-04\n",
            "Epoch 67/100\n",
            "45/45 [==============================] - 8s 179ms/step - loss: 1.9497 - accuracy: 0.5340 - val_loss: 17.7008 - val_accuracy: 0.6125 - lr: 3.0000e-04\n",
            "Epoch 68/100\n",
            "45/45 [==============================] - 8s 179ms/step - loss: 1.4755 - accuracy: 0.5028 - val_loss: 2.5310 - val_accuracy: 0.6125 - lr: 3.0000e-04\n",
            "Epoch 69/100\n",
            "45/45 [==============================] - 8s 183ms/step - loss: 1.6808 - accuracy: 0.5227 - val_loss: 0.8888 - val_accuracy: 0.6000 - lr: 3.0000e-04\n",
            "Epoch 70/100\n",
            "45/45 [==============================] - 9s 195ms/step - loss: 1.7209 - accuracy: 0.5227 - val_loss: 0.9346 - val_accuracy: 0.5250 - lr: 3.0000e-04\n",
            "Epoch 71/100\n",
            "45/45 [==============================] - 8s 180ms/step - loss: 1.6763 - accuracy: 0.5340 - val_loss: 0.9058 - val_accuracy: 0.5500 - lr: 3.0000e-04\n",
            "Epoch 72/100\n",
            "45/45 [==============================] - 9s 187ms/step - loss: 2.2517 - accuracy: 0.5319 - val_loss: 1.1000 - val_accuracy: 0.3875 - lr: 3.0000e-04\n",
            "Epoch 73/100\n",
            "45/45 [==============================] - 8s 185ms/step - loss: 1.3998 - accuracy: 0.5510 - val_loss: 0.9032 - val_accuracy: 0.5750 - lr: 3.0000e-04\n",
            "Epoch 74/100\n",
            "45/45 [==============================] - 8s 180ms/step - loss: 1.3966 - accuracy: 0.5552 - val_loss: 2.3909 - val_accuracy: 0.6500 - lr: 3.0000e-04\n",
            "Epoch 75/100\n",
            "45/45 [==============================] - 8s 183ms/step - loss: 1.9186 - accuracy: 0.5326 - val_loss: 0.8730 - val_accuracy: 0.6125 - lr: 3.0000e-04\n",
            "Epoch 76/100\n",
            "45/45 [==============================] - 9s 192ms/step - loss: 1.5992 - accuracy: 0.5609 - val_loss: 0.8839 - val_accuracy: 0.5875 - lr: 3.0000e-04\n",
            "Epoch 77/100\n",
            "45/45 [==============================] - 8s 185ms/step - loss: 1.7617 - accuracy: 0.5269 - val_loss: 1.1177 - val_accuracy: 0.3875 - lr: 3.0000e-04\n",
            "Epoch 78/100\n",
            "45/45 [==============================] - 8s 179ms/step - loss: 1.3059 - accuracy: 0.5453 - val_loss: 0.9476 - val_accuracy: 0.5125 - lr: 3.0000e-04\n",
            "Epoch 79/100\n",
            "45/45 [==============================] - 8s 181ms/step - loss: 1.7679 - accuracy: 0.5326 - val_loss: 0.8681 - val_accuracy: 0.5625 - lr: 3.0000e-04\n",
            "Epoch 80/100\n",
            "45/45 [==============================] - 8s 182ms/step - loss: 1.3335 - accuracy: 0.5482 - val_loss: 2.3926 - val_accuracy: 0.6125 - lr: 3.0000e-04\n",
            "Epoch 81/100\n",
            "45/45 [==============================] - 8s 182ms/step - loss: 1.8346 - accuracy: 0.5482 - val_loss: 0.8294 - val_accuracy: 0.6375 - lr: 3.0000e-04\n",
            "Epoch 82/100\n",
            "45/45 [==============================] - 8s 180ms/step - loss: 1.4480 - accuracy: 0.5340 - val_loss: 0.8763 - val_accuracy: 0.5875 - lr: 3.0000e-04\n",
            "Epoch 83/100\n",
            "45/45 [==============================] - 9s 188ms/step - loss: 1.2133 - accuracy: 0.5113 - val_loss: 1.0198 - val_accuracy: 0.4375 - lr: 3.0000e-04\n",
            "Epoch 84/100\n",
            "45/45 [==============================] - 8s 180ms/step - loss: 1.3834 - accuracy: 0.5354 - val_loss: 0.9344 - val_accuracy: 0.5250 - lr: 3.0000e-04\n",
            "Epoch 85/100\n",
            "45/45 [==============================] - 8s 179ms/step - loss: 1.6089 - accuracy: 0.5751 - val_loss: 0.9236 - val_accuracy: 0.5250 - lr: 3.0000e-04\n",
            "Epoch 86/100\n",
            "45/45 [==============================] - 8s 177ms/step - loss: 1.0202 - accuracy: 0.5977 - val_loss: 0.8655 - val_accuracy: 0.5625 - lr: 3.0000e-04\n",
            "Epoch 87/100\n",
            "45/45 [==============================] - 8s 181ms/step - loss: 1.8418 - accuracy: 0.5836 - val_loss: 0.9643 - val_accuracy: 0.5125 - lr: 3.0000e-04\n",
            "Epoch 88/100\n",
            "45/45 [==============================] - 8s 181ms/step - loss: 1.3025 - accuracy: 0.5439 - val_loss: 0.9847 - val_accuracy: 0.4875 - lr: 3.0000e-04\n",
            "Epoch 89/100\n",
            "45/45 [==============================] - 8s 181ms/step - loss: 1.4204 - accuracy: 0.5538 - val_loss: 0.9557 - val_accuracy: 0.5500 - lr: 3.0000e-04\n",
            "Epoch 90/100\n",
            "45/45 [==============================] - 8s 184ms/step - loss: 1.5657 - accuracy: 0.5836 - val_loss: 0.9351 - val_accuracy: 0.5250 - lr: 3.0000e-04\n",
            "Epoch 91/100\n",
            "45/45 [==============================] - 8s 184ms/step - loss: 1.3479 - accuracy: 0.6218 - val_loss: 0.9095 - val_accuracy: 0.5875 - lr: 3.0000e-04\n",
            "Epoch 92/100\n",
            "45/45 [==============================] - 9s 196ms/step - loss: 1.7821 - accuracy: 0.5722 - val_loss: 0.9945 - val_accuracy: 0.4625 - lr: 3.0000e-04\n",
            "Epoch 93/100\n",
            "45/45 [==============================] - 8s 180ms/step - loss: 1.2134 - accuracy: 0.5921 - val_loss: 1.1932 - val_accuracy: 0.6000 - lr: 3.0000e-04\n",
            "Epoch 94/100\n",
            "45/45 [==============================] - 8s 181ms/step - loss: 1.5692 - accuracy: 0.5779 - val_loss: 0.9936 - val_accuracy: 0.4625 - lr: 3.0000e-04\n",
            "Epoch 95/100\n",
            "45/45 [==============================] - 8s 178ms/step - loss: 1.8197 - accuracy: 0.5737 - val_loss: 206.6808 - val_accuracy: 0.5250 - lr: 3.0000e-04\n",
            "Epoch 96/100\n",
            "45/45 [==============================] - 8s 183ms/step - loss: 1.4652 - accuracy: 0.5921 - val_loss: 208.5378 - val_accuracy: 0.5625 - lr: 3.0000e-04\n",
            "Epoch 97/100\n",
            "45/45 [==============================] - 9s 186ms/step - loss: 1.3804 - accuracy: 0.6006 - val_loss: 38.7627 - val_accuracy: 0.6250 - lr: 3.0000e-04\n",
            "Epoch 98/100\n",
            "45/45 [==============================] - 10s 217ms/step - loss: 1.4867 - accuracy: 0.6416 - val_loss: 13.2754 - val_accuracy: 0.6750 - lr: 3.0000e-04\n",
            "Epoch 99/100\n",
            "45/45 [==============================] - 9s 192ms/step - loss: 1.1683 - accuracy: 0.6473 - val_loss: 0.8606 - val_accuracy: 0.6250 - lr: 3.0000e-04\n",
            "Epoch 100/100\n",
            "45/45 [==============================] - 8s 183ms/step - loss: 2.1857 - accuracy: 0.5751 - val_loss: 1.1476 - val_accuracy: 0.3875 - lr: 3.0000e-04\n",
            "Tiempo de procesamiento (secs):  0 horas 21 minutos y 9 segundos\n"
          ]
        }
      ]
    },
    {
      "cell_type": "code",
      "source": [
        "history_dict = history.history\n",
        "dictkeys=list(history_dict.keys())\n",
        "# Mostrar resultados.\n",
        "\n",
        "loss_values     = history.history['loss']\n",
        "val_loss_values = history.history['val_loss']\n",
        "epochs = range(1, len(loss_values) + 1)\n",
        "\n",
        "plt.figure(figsize=(12,5))\n",
        "plt.plot(epochs, loss_values, 'b', label='Training loss')\n",
        "plt.plot(epochs, val_loss_values, 'g', label='Validation loss')\n",
        "plt.title('Valor de la función objetivo (loss) en conjuntos de en entrenamiento y validación')\n",
        "plt.xlabel('Epocas')\n",
        "plt.ylabel('')\n",
        "plt.hlines(y=.078, xmin=0, xmax=EPOCAS, colors='k', linestyles='dashed')\n",
        "plt.legend()\n",
        "\n",
        "plt.show()\n",
        "\n",
        "\n",
        "acc_values = history_dict['accuracy']\n",
        "val_acc_values = history_dict['val_accuracy']\n",
        "\n",
        "plt.figure(figsize=(12,5))\n",
        "plt.plot(epochs, acc_values, 'b', label='Accuracy')\n",
        "plt.plot(epochs, val_acc_values, 'g', label='Validation accuracy')\n",
        "plt.title('Training and validation accuracy')\n",
        "plt.xlabel('Epochs')\n",
        "plt.ylabel('Loss')\n",
        "plt.hlines(y=.982, xmin=0, xmax=EPOCAS, colors='k', linestyles='dashed')\n",
        "plt.legend()\n",
        "\n",
        "plt.show()\n",
        "\n",
        "# The model weights (that are considered the best) are loaded into the model.\n",
        "model.load_weights(h5)\n",
        "\n",
        "results = model.evaluate(test_batches)\n",
        "print(results)"
      ],
      "metadata": {
        "id": "E24xASHu1aMK",
        "colab": {
          "base_uri": "https://localhost:8080/",
          "height": 718
        },
        "outputId": "9c06d3b3-8ed5-4314-a199-923aa0779274"
      },
      "execution_count": null,
      "outputs": [
        {
          "output_type": "display_data",
          "data": {
            "text/plain": [
              "<Figure size 864x360 with 1 Axes>"
            ],
            "image/png": "[encoded data removed]"
          },
          "metadata": {
            "needs_background": "light"
          }
        },
        {
          "output_type": "display_data",
          "data": {
            "text/plain": [
              "<Figure size 864x360 with 1 Axes>"
            ],
            "image/png": "[encoded data removed]"
          },
          "metadata": {
            "needs_background": "light"
          }
        },
        {
          "output_type": "stream",
          "name": "stdout",
          "text": [
            "6/6 [==============================] - 54s 11s/step - loss: 9.3748 - accuracy: 0.7241\n",
            "[9.374844551086426, 0.7241379022598267]\n"
          ]
        }
      ]
    },
    {
      "cell_type": "code",
      "source": [
        "#Confution Matrix and Classification Report\n",
        "target_names = list(train_batches.class_indices.keys())\n",
        "Y_pred = model.predict(test_batches, len(test_batches.classes) // BATCH_SIZE+1)\n",
        "y_pred = np.argmax(Y_pred, axis=1)\n",
        "print('Confusion Matrix')\n",
        "cm = confusion_matrix(test_batches.classes, y_pred)\n",
        "figure = plt.figure(figsize=(8, 8))\n",
        "sns.heatmap(cm, annot=True,cmap=plt.cm.Blues, xticklabels= target_names,yticklabels= target_names)\n",
        "plt.tight_layout()\n",
        "plt.ylabel('True label')\n",
        "plt.xlabel('Predicted label')\n",
        "plt.show()\n",
        "print('Classification Report')\n",
        "\n",
        "print(classification_report(test_batches.classes, y_pred, target_names=target_names))"
      ],
      "metadata": {
        "id": "ChI6E-Ndr-yN",
        "colab": {
          "base_uri": "https://localhost:8080/"
        },
        "outputId": "e3fef281-144e-46ae-fcaa-5d4e239f4f71"
      },
      "execution_count": null,
      "outputs": [
        {
          "output_type": "stream",
          "name": "stdout",
          "text": [
            "Confusion Matrix\n"
          ]
        },
        {
          "output_type": "display_data",
          "data": {
            "text/plain": [
              "<Figure size 576x576 with 2 Axes>"
            ],
            "image/png": "[encoded data removed]"
          },
          "metadata": {
            "needs_background": "light"
          }
        },
        {
          "output_type": "stream",
          "name": "stdout",
          "text": [
            "Classification Report\n",
            "                                  precision    recall  f1-score   support\n",
            "\n",
            "    Emberiza cirlus_Cirl Bunting       0.71      0.69      0.70        29\n",
            "  Serinus serinus_European Serin       0.75      0.83      0.79        29\n",
            "Emberiza citrinella_Yellowhammer       0.70      0.66      0.68        29\n",
            "\n",
            "                        accuracy                           0.72        87\n",
            "                       macro avg       0.72      0.72      0.72        87\n",
            "                    weighted avg       0.72      0.72      0.72        87\n",
            "\n"
          ]
        }
      ]
    }
  ]
}