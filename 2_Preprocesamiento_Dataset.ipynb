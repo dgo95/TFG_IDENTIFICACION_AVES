{
  "cells": [
    {
      "cell_type": "markdown",
      "metadata": {
        "id": "view-in-github",
        "colab_type": "text"
      },
      "source": [
        "<a href=\"https://colab.research.google.com/github/dgo95/TFG_IDENTIFICACION_AVES/blob/main/2_Preprocesamiento_Dataset.ipynb\" target=\"_parent\"><img src=\"https://colab.research.google.com/assets/colab-badge.svg\" alt=\"Open In Colab\"/></a>"
      ]
    },
    {
      "cell_type": "code",
      "execution_count": null,
      "metadata": {
        "colab": {
          "base_uri": "https://localhost:8080/"
        },
        "id": "m4X2UgeQHj25",
        "outputId": "f576d9e6-554f-4f6b-a4d0-1e143eb8a297"
      },
      "outputs": [
        {
          "output_type": "stream",
          "name": "stdout",
          "text": [
            "Looking in indexes: https://pypi.org/simple, https://us-python.pkg.dev/colab-wheels/public/simple/\n",
            "Collecting scikit-maad\n",
            "  Downloading scikit_maad-1.3.11-py3-none-any.whl (142 kB)\n",
            "\u001b[K     |████████████████████████████████| 142 kB 14.1 MB/s \n",
            "\u001b[?25hRequirement already satisfied: scikit-image>=0.17 in /usr/local/lib/python3.7/dist-packages (from scikit-maad) (0.18.3)\n",
            "Requirement already satisfied: scipy>=1.5 in /usr/local/lib/python3.7/dist-packages (from scikit-maad) (1.7.3)\n",
            "Requirement already satisfied: numpy>=1.19 in /usr/local/lib/python3.7/dist-packages (from scikit-maad) (1.21.6)\n",
            "Requirement already satisfied: pandas>=1.1 in /usr/local/lib/python3.7/dist-packages (from scikit-maad) (1.3.5)\n",
            "Requirement already satisfied: resampy>=0.2 in /usr/local/lib/python3.7/dist-packages (from scikit-maad) (0.4.2)\n",
            "Requirement already satisfied: python-dateutil>=2.7.3 in /usr/local/lib/python3.7/dist-packages (from pandas>=1.1->scikit-maad) (2.8.2)\n",
            "Requirement already satisfied: pytz>=2017.3 in /usr/local/lib/python3.7/dist-packages (from pandas>=1.1->scikit-maad) (2022.6)\n",
            "Requirement already satisfied: six>=1.5 in /usr/local/lib/python3.7/dist-packages (from python-dateutil>=2.7.3->pandas>=1.1->scikit-maad) (1.15.0)\n",
            "Requirement already satisfied: numba>=0.53 in /usr/local/lib/python3.7/dist-packages (from resampy>=0.2->scikit-maad) (0.56.4)\n",
            "Requirement already satisfied: llvmlite<0.40,>=0.39.0dev0 in /usr/local/lib/python3.7/dist-packages (from numba>=0.53->resampy>=0.2->scikit-maad) (0.39.1)\n",
            "Requirement already satisfied: importlib-metadata in /usr/local/lib/python3.7/dist-packages (from numba>=0.53->resampy>=0.2->scikit-maad) (4.13.0)\n",
            "Requirement already satisfied: setuptools in /usr/local/lib/python3.7/dist-packages (from numba>=0.53->resampy>=0.2->scikit-maad) (57.4.0)\n",
            "Requirement already satisfied: tifffile>=2019.7.26 in /usr/local/lib/python3.7/dist-packages (from scikit-image>=0.17->scikit-maad) (2021.11.2)\n",
            "Requirement already satisfied: imageio>=2.3.0 in /usr/local/lib/python3.7/dist-packages (from scikit-image>=0.17->scikit-maad) (2.9.0)\n",
            "Requirement already satisfied: networkx>=2.0 in /usr/local/lib/python3.7/dist-packages (from scikit-image>=0.17->scikit-maad) (2.6.3)\n",
            "Requirement already satisfied: matplotlib!=3.0.0,>=2.0.0 in /usr/local/lib/python3.7/dist-packages (from scikit-image>=0.17->scikit-maad) (3.2.2)\n",
            "Requirement already satisfied: PyWavelets>=1.1.1 in /usr/local/lib/python3.7/dist-packages (from scikit-image>=0.17->scikit-maad) (1.3.0)\n",
            "Requirement already satisfied: pillow!=7.1.0,!=7.1.1,>=4.3.0 in /usr/local/lib/python3.7/dist-packages (from scikit-image>=0.17->scikit-maad) (7.1.2)\n",
            "Requirement already satisfied: pyparsing!=2.0.4,!=2.1.2,!=2.1.6,>=2.0.1 in /usr/local/lib/python3.7/dist-packages (from matplotlib!=3.0.0,>=2.0.0->scikit-image>=0.17->scikit-maad) (3.0.9)\n",
            "Requirement already satisfied: kiwisolver>=1.0.1 in /usr/local/lib/python3.7/dist-packages (from matplotlib!=3.0.0,>=2.0.0->scikit-image>=0.17->scikit-maad) (1.4.4)\n",
            "Requirement already satisfied: cycler>=0.10 in /usr/local/lib/python3.7/dist-packages (from matplotlib!=3.0.0,>=2.0.0->scikit-image>=0.17->scikit-maad) (0.11.0)\n",
            "Requirement already satisfied: typing-extensions in /usr/local/lib/python3.7/dist-packages (from kiwisolver>=1.0.1->matplotlib!=3.0.0,>=2.0.0->scikit-image>=0.17->scikit-maad) (4.1.1)\n",
            "Requirement already satisfied: zipp>=0.5 in /usr/local/lib/python3.7/dist-packages (from importlib-metadata->numba>=0.53->resampy>=0.2->scikit-maad) (3.10.0)\n",
            "Installing collected packages: scikit-maad\n",
            "Successfully installed scikit-maad-1.3.11\n",
            "Looking in indexes: https://pypi.org/simple, https://us-python.pkg.dev/colab-wheels/public/simple/\n",
            "Collecting pydub\n",
            "  Downloading pydub-0.25.1-py2.py3-none-any.whl (32 kB)\n",
            "Installing collected packages: pydub\n",
            "Successfully installed pydub-0.25.1\n"
          ]
        }
      ],
      "source": [
        "!pip install scikit-maad\n",
        "!pip install pydub"
      ]
    },
    {
      "cell_type": "code",
      "execution_count": null,
      "metadata": {
        "colab": {
          "base_uri": "https://localhost:8080/"
        },
        "id": "6Ti8TzZfKDsg",
        "outputId": "afd60bd5-3044-46e3-efe7-efe3f6878111"
      },
      "outputs": [
        {
          "output_type": "stream",
          "name": "stdout",
          "text": [
            "Drive already mounted at /content/drive; to attempt to forcibly remount, call drive.mount(\"/content/drive\", force_remount=True).\n"
          ]
        }
      ],
      "source": [
        "from google.colab import drive\n",
        "drive.mount('/content/drive')"
      ]
    },
    {
      "cell_type": "code",
      "execution_count": null,
      "metadata": {
        "id": "wqadz7QP_dzw"
      },
      "outputs": [],
      "source": [
        "import numpy as np\n",
        "import os\n",
        "import cv2  \n",
        "from pydub import AudioSegment\n",
        "import contextlib\n",
        "import wave\n",
        "import sys\n",
        "import imageio\n",
        "import random\n",
        "import shutil\n",
        "import librosa\n",
        "import librosa.display\n",
        "import matplotlib.pyplot as plt\n",
        "import maad\n",
        "from maad import sound, util, rois, features\n",
        "from maad.util import (power2dB, plot2d, format_features, read_audacity_annot,\n",
        "                       overlay_rois, overlay_centroid, crop_image,save_figlist)"
      ]
    },
    {
      "cell_type": "code",
      "execution_count": null,
      "metadata": {
        "id": "sO0YkTO4u2TS"
      },
      "outputs": [],
      "source": [
        "def filtroFrecuencias(powerSpectrum, frequenciesFound, fMax,fMin):\n",
        "    i = 0\n",
        "    min = len(powerSpectrum)-1\n",
        "    for f in frequenciesFound:\n",
        "        if f > fMin and i<min:\n",
        "            min = i\n",
        "        elif f > fMax:\n",
        "            break\n",
        "        i = i + 1\n",
        "    l = len(powerSpectrum)\n",
        "    aux = np.delete(powerSpectrum, range(i,l),0)\n",
        "    return np.delete(aux, range(0,min),0) , frequenciesFound[min:i]\n",
        "def iguala(img):\n",
        "  anch = img.shape[1] # keep original height\n",
        "  alt = img.shape[0]\n",
        "  dim = (anch,ALTO)\n",
        "  # resize image\n",
        "  if alt < ALTO:\n",
        "    img = cv2.resize(img, dim, interpolation = cv2.INTER_LINEAR)\n",
        "  else:\n",
        "    img = cv2.resize(img, dim, interpolation = cv2.INTER_AREA)\n",
        "\n",
        "  dim= (ANCHO,ALTO)\n",
        "  if (anch > ANCHO):\n",
        "    agranda = False\n",
        "  else:\n",
        "    agranda = True\n",
        "  if agranda:\n",
        "    img = cv2.resize(img, dim, interpolation = cv2.INTER_LINEAR)\n",
        "  else:\n",
        "    img = cv2.resize(img, dim, interpolation = cv2.INTER_AREA)\n",
        "  return img\n",
        "def todoAEntrenamiento():\n",
        "  for nombre_directorio, dirs, ficheros in os.walk(test):\n",
        "    for nombre_fichero in ficheros:\n",
        "      os.replace(os.path.join(nombre_directorio,nombre_fichero),os.path.join(nombre_directorio.replace(\"test\",\"train\"),nombre_fichero))\n",
        "def ordena(e, t):\n",
        "  todoAEntrenamiento()\n",
        "  for nombre_directorio, dirs, ficheros in os.walk(e):\n",
        "    idx = 0\n",
        "    test = nombre_directorio.replace(\"train\",\"test\")\n",
        "    existe = os.path.exists(test)#Se optiene si existe o no\n",
        "    if not existe:  \n",
        "        os.makedirs(test)\n",
        "    for nombre_fichero in ficheros:\n",
        "      if idx > len(ficheros) * .8:\n",
        "        os.replace(os.path.join(nombre_directorio,nombre_fichero),os.path.join(nombre_directorio.replace(\"train\",\"test\"),nombre_fichero))\n",
        "      idx = idx +1\n",
        "def agrupaRois(df):\n",
        "  df.sort_values(by = \"min_x\", ascending=True, inplace=True)\n",
        "  i =-11\n",
        "  borrar = []\n",
        "  contador = 0\n",
        "  for index, row in df.iterrows():\n",
        "        if i == -11:\n",
        "          i=index\n",
        "          continue\n",
        "        if row[\"min_x\"]<=df._get_value(i, 'max_x'):\n",
        "          df.at[i, 'max_x'] = row[\"max_x\"] if row[\"max_x\"] > df.at[index, 'max_x'] else df.at[i, 'max_x']\n",
        "          df.at[i, 'max_t'] = row[\"max_t\"] if row[\"max_t\"] > df.at[index, 'max_t'] else df.at[i, 'max_t']\n",
        "          df.at[i, 'min_t'] = row[\"min_t\"] if row[\"min_t\"] > df.at[index, 'min_t'] else df.at[i, 'min_t']\n",
        "          borrar.append(index)\n",
        "          contador = contador +1\n",
        "        else:\n",
        "          i = index\n",
        "  for b in borrar:\n",
        "    df = df.drop(b)\n",
        "  return df\n",
        "def ficherosTotales():\n",
        "    contador=0\n",
        "    for nombre_directorio, dirs, ficheros in os.walk(original):\n",
        "        for nombre_fichero in ficheros:\n",
        "            contador = contador +1\n",
        "    return contador\n",
        "def normalizaMaximo5DB(sound):\n",
        "    change_in_dBFS = 5 - sound.max_dBFS\n",
        "    nSong = sound.apply_gain(change_in_dBFS)\n",
        "    return nSong\n",
        "\n",
        "def audioMasLargo(ruta,duracion):\n",
        "    audio_in_file = ruta\n",
        "    audio_out_file = ruta.replace(\".wav\",\"\").replace(\"Original\",\"MismaDuracion\")\n",
        "    #lee el fichero wav\n",
        "    song = AudioSegment.from_wav(audio_in_file)\n",
        "    \n",
        "    repeticiones= duracion // DURACION_MAXIMA\n",
        "    if(repeticiones == 1):\n",
        "            save_name = audio_in_file.replace(\"Original\",\"MismaDuracion\")\n",
        "            songP = song[:DURACION_MAXIMA*1000]\n",
        "            #Establece el pico máximo en 5 dB\n",
        "            songP = normalizaMaximo5DB(songP)\n",
        "            songP.export(save_name, format=\"wav\")\n",
        "    else:\n",
        "        for i in range(1,int(repeticiones)+1):\n",
        "            songP = song[DURACION_MAXIMA*1000*(i-1):DURACION_MAXIMA*1000*i]\n",
        "            save_name = audio_out_file + \"part\"+str(i)+\".wav\"\n",
        "            #Establece el pico máximo en 5 dB\n",
        "            songP = normalizaMaximo5DB(songP)\n",
        "            songP = songP.set_channels(1)\n",
        "            songP.export(save_name, format=\"wav\")\n",
        "\n",
        "def audioMasCorto(ruta,duracion):\n",
        "    audio_in_file = ruta\n",
        "    \n",
        "    # crear segundos de silencio necesarios\n",
        "    silence_segment = AudioSegment.silent(duration=DURACION_MAXIMA*1000-round(duracion*1000))  #duracion en milisegundos\n",
        "\n",
        "    #lee el fichero wav\n",
        "    song = AudioSegment.from_wav(audio_in_file)\n",
        "\n",
        "    #Junta los dos segmentos    \n",
        "    final_song = song + silence_segment\n",
        "    \n",
        "    #Establece el pico máximo en 5 dB\n",
        "    final_song = normalizaMaximo5DB(final_song)\n",
        "\n",
        "    #Guarda la modificación\n",
        "    final_song.export(audio_in_file.replace(\"Original\",\"MismaDuracion\"), format=\"wav\")"
      ]
    },
    {
      "cell_type": "code",
      "execution_count": null,
      "metadata": {
        "id": "lOpCeni62ZAi"
      },
      "outputs": [],
      "source": [
        "def IgualarDuraciones(ruta, maximo):\n",
        "  filename, file_extension = os.path.splitext(ruta)\n",
        "  if file_extension == '.csv':\n",
        "    return\n",
        "  try:\n",
        "    with contextlib.closing(wave.open(ruta,'r')) as f:\n",
        "      frames = f.getnframes()\n",
        "      rate = f.getframerate()\n",
        "      duration = frames / float(rate)\n",
        "      if(duration<maximo):\n",
        "        audioMasCorto(ruta,duration)\n",
        "      else:\n",
        "        audioMasLargo(ruta,duration)  \n",
        "  except:\n",
        "    print(\"Excepción en el fichero \"+filename+\" de la ruta \"+ruta)"
      ]
    },
    {
      "cell_type": "code",
      "execution_count": null,
      "metadata": {
        "id": "9h076IFa6YYj"
      },
      "outputs": [],
      "source": [
        "def Espectrograma1():\n",
        "  for nombre_directorio, dirs, ficheros in os.walk(original.replace(\"Original\",\"MismaDuracion\")):\n",
        "    espectograma = nombre_directorio.replace(\"MismaDuracion\", \"Espectrogramas\")\n",
        "    existe = os.path.exists(espectograma)  # Se optiene si existe o no\n",
        "    if not existe:\n",
        "        os.makedirs(espectograma)\n",
        "    for nombre_fichero in ficheros:\n",
        "        ruta = os.path.join(nombre_directorio, nombre_fichero)\n",
        "        try:\n",
        "          s, fs = sound.load(ruta)\n",
        "          dB_max = 96\n",
        "\n",
        "          Sxx_power, tn, fn, ext = sound.spectrogram(s, fs, nperseg=1024, noverlap=1024//2)\n",
        "          ext[2] = frecuenciaMinima\n",
        "          ext[3] = frecuenciaMaxima\n",
        "          Sxx_power , fn = filtroFrecuencias(Sxx_power, fn, frecuenciaMaxima,frecuenciaMinima)\n",
        "          Sxx_power_noNoise= sound.median_equalizer(Sxx_power, display=False, **{'extent':ext})\n",
        "          Sxx_db_noNoise = power2dB(Sxx_power_noNoise)\n",
        "          Sxx_db_noNoise_smooth = sound.smooth(Sxx_db_noNoise, std=0.5,\n",
        "                                      display=False, savefig=None,\n",
        "                                      **{'vmin':0, 'vmax':dB_max, 'extent':ext})\n",
        "\n",
        "          ruta1 = ruta.replace(\"MismaDuracion\", \"Espectrogramas\").replace(\".wav\", \".png\")\n",
        "          imageio.imwrite(ruta1, (Sxx_db_noNoise_smooth).astype(np.uint8))\n",
        "          img = iguala(cv2.imread(ruta1, cv2.IMREAD_GRAYSCALE))\n",
        "          cv2.imwrite(ruta1, img)\n",
        "          os.remove(ruta)\n",
        "        except:\n",
        "          print(\"Excepcion en \",ruta)\n",
        "          continue"
      ]
    },
    {
      "cell_type": "code",
      "execution_count": null,
      "metadata": {
        "id": "Sg7FTHyOa7AS"
      },
      "outputs": [],
      "source": [
        "def Espectrograma2():\n",
        "  for nombre_directorio, dirs, ficheros in os.walk(original.replace(\"Original\",\"MismaDuracion\")):\n",
        "    espectograma = nombre_directorio.replace(\"MismaDuracion\", \"Espectrogramas\")\n",
        "    existe = os.path.exists(espectograma)  # Se optiene si existe o no\n",
        "    if not existe:\n",
        "        os.makedirs(espectograma)\n",
        "    for nombre_fichero in ficheros:\n",
        "        ruta = os.path.join(nombre_directorio, nombre_fichero)\n",
        "        path, fichero = os.path.split(ruta)\n",
        "        try:\n",
        "          s, fs = sound.load(ruta)\n",
        "          dB_max = 96\n",
        "\n",
        "          Sxx_power, tn, fn, ext = sound.spectrogram(s, fs, nperseg=1024, noverlap=1024//2)\n",
        "          ext[2] = frecuenciaMinima\n",
        "          ext[3] = frecuenciaMaxima\n",
        "          Sxx_power , fn = filtroFrecuencias(Sxx_power, fn, frecuenciaMaxima,frecuenciaMinima)\n",
        "          _, _, snr, _, _, _ = sound.spectral_snr(Sxx_power)\n",
        "          if snr > 30 and snr < 100:\n",
        "            Sxx_power_noNoise= sound.median_equalizer(Sxx_power, display=False, **{'extent':ext})\n",
        "            Sxx_db_noNoise = power2dB(Sxx_power_noNoise)\n",
        "            Sxx_db_noNoise_smooth = sound.smooth(Sxx_db_noNoise, std=0.5,\n",
        "                                        display=False, savefig=None,\n",
        "                                        **{'vmin':0, 'vmax':dB_max, 'extent':ext})\n",
        "\n",
        "            #ruta1 = ruta.replace(\"MismaDuracion\", \"Espectrogramas\").replace(\".wav\", \".png\")\n",
        "            ruta1 = os.path.join(path.replace(\"MismaDuracion\", \"Espectrogramas\"),str(snr) +\".png\")\n",
        "            imageio.imwrite(ruta1, (Sxx_db_noNoise_smooth).astype(np.uint8))\n",
        "            img = iguala(cv2.imread(ruta1, cv2.IMREAD_GRAYSCALE))\n",
        "            cv2.imwrite(ruta1, img)\n",
        "          os.remove(ruta)\n",
        "        except:\n",
        "          print(\"Excepcion en \",ruta)\n",
        "          continue"
      ]
    },
    {
      "cell_type": "code",
      "execution_count": null,
      "metadata": {
        "id": "luDCQtWqtnwa"
      },
      "outputs": [],
      "source": [
        "def EspectrogramaMel():\n",
        "  for nombre_directorio, dirs, ficheros in os.walk(original.replace(\"Original\",\"MismaDuracion\")):\n",
        "    espectograma = nombre_directorio.replace(\"MismaDuracion\", \"Espectrogramas\")\n",
        "    existe = os.path.exists(espectograma)  # Se optiene si existe o no\n",
        "    if not existe:\n",
        "        os.makedirs(espectograma)\n",
        "    for nombre_fichero in ficheros:\n",
        "        ruta = os.path.join(nombre_directorio, nombre_fichero)\n",
        "        path, fichero = os.path.split(ruta)\n",
        "        try:\n",
        "          s, fs = sound.load(ruta)\n",
        "          dB_max = 96\n",
        "\n",
        "          Sxx_power, tn, fn, ext = sound.spectrogram(s, fs, nperseg=1024, noverlap=1024//2)\n",
        "          _, _, snr, _, _, _ = sound.spectral_snr(Sxx_power)\n",
        "          if snr > 30 and snr < 100:\n",
        "            ruta1 = os.path.join(path.replace(\"MismaDuracion\", \"Espectrogramas\"),str(snr) +\".png\")\n",
        "            signal, sr = librosa.load(ruta)\n",
        "            saveMel(signal, ruta1,sr)\n",
        "            img = cv2.imread(ruta1, cv2.IMREAD_UNCHANGED)\n",
        "            scale_percent = 50 # percent of original size\n",
        "            width = int(img.shape[1] * scale_percent / 100)\n",
        "            height = int(img.shape[0] * scale_percent / 100)\n",
        "            dim = (width, height)\n",
        "              \n",
        "            # resize image\n",
        "            resized = cv2.resize(img, dim, interpolation = cv2.INTER_AREA)\n",
        "            cv2.imwrite(ruta1, resized)\n",
        "          os.remove(ruta)\n",
        "        except Exception as e:\n",
        "          print(\"Excepcion en \",ruta)\n",
        "          print(str(e))\n",
        "          continue"
      ]
    },
    {
      "cell_type": "code",
      "execution_count": null,
      "metadata": {
        "id": "WiHvXS5GxB6T"
      },
      "outputs": [],
      "source": [
        "def saveMel(signal, directory,sr):\n",
        "    import gc\n",
        "    gc.enable()\n",
        "    # MK_spectrogram modified\n",
        "    N_FFT = 1024         # \n",
        "    HOP_SIZE = 1024      #  \n",
        "    N_MELS = 128          # Higher   \n",
        "    WIN_SIZE = 1024      # \n",
        "    WINDOW_TYPE = 'hann' # \n",
        "    FEATURE = 'mel'      # \n",
        "    FMIN = 1400\n",
        "\n",
        "    fig = plt.figure(1,frameon=False)\n",
        "    fig.set_size_inches(6,6)\n",
        "\n",
        "    ax = plt.Axes(fig, [0., 0., 1., 1.])\n",
        "    ax.set_axis_off()\n",
        "    fig.add_axes(ax)\n",
        "    \n",
        "    S = librosa.feature.melspectrogram(y=signal, sr=sr,\n",
        "                                        n_fft=N_FFT,\n",
        "                                        hop_length=HOP_SIZE, \n",
        "                                        n_mels=N_MELS, \n",
        "                                        htk=True, \n",
        "                                        fmin=FMIN, # higher limit ##high-pass filter freq.\n",
        "                                        fmax=sr/2) # AMPLITUDE\n",
        "    librosa.display.specshow(librosa.power_to_db(S**2,ref=np.max), fmin=FMIN) #power = S**2\n",
        "\n",
        "    fig.savefig(directory)\n",
        "    plt.ioff()\n",
        "    #plt.show(block=False)\n",
        "    fig.clf()\n",
        "    ax.cla()\n",
        "    plt.clf()\n",
        "    plt.close('all')"
      ]
    },
    {
      "cell_type": "code",
      "execution_count": null,
      "metadata": {
        "id": "M45z-05JwNCa"
      },
      "outputs": [],
      "source": [
        "def PrimerMetodo(ruta):\n",
        "  path, fichero = os.path.split(ruta)\n",
        "  MismaDuracion = path.replace(\"Original\",\"MismaDuracion\")\n",
        "  existe = os.path.exists(MismaDuracion)#Se optiene si existe o no\n",
        "  if not existe:  \n",
        "    os.makedirs(MismaDuracion)\n",
        "  IgualarDuraciones(ruta,DURACION_MAXIMA)\n",
        "  Espectrograma1()\n",
        "  shutil.rmtree(original.replace(\"Original\",\"MismaDuracion\"))"
      ]
    },
    {
      "cell_type": "code",
      "execution_count": null,
      "metadata": {
        "id": "b4FGjm1I4zhF"
      },
      "outputs": [],
      "source": [
        "def SegundoMetodo(ruta):\n",
        "  path, fichero = os.path.split(ruta)\n",
        "  espectograma = path.replace(\"Original\",\"Espectrogramas\")\n",
        "  existe = os.path.exists(espectograma)#Se optiene si existe o no\n",
        "  if not existe:  \n",
        "    os.makedirs(espectograma)\n",
        "  file = os.path.splitext(fichero)[0]\n",
        "  extension = os.path.splitext(fichero)[1]\n",
        "  if extension == \".csv\":\n",
        "    return\n",
        "  try:\n",
        "    rutaNueva = ruta.replace(\"Original\",\"Espectrogramas\").replace(\".wav\",\".png\")\n",
        "    s, fs = sound.load(ruta)\n",
        "    dB_max = 96\n",
        "    Sxx_power, tn, fn, ext = sound.spectrogram(s, fs, nperseg=1024, noverlap=1024//2)\n",
        "    ext[2] = frecuenciaMinima\n",
        "    ext[3] = frecuenciaMaxima\n",
        "    Sxx_power , fn = filtroFrecuencias(Sxx_power, fn, frecuenciaMaxima,frecuenciaMinima)\n",
        "\n",
        "    Sxx_power_noNoise= sound.median_equalizer(Sxx_power, display=False, **{'extent':ext})\n",
        "    Sxx_db_noNoise = power2dB(Sxx_power_noNoise)\n",
        "\n",
        "    Sxx_db_noNoise_smooth = sound.smooth(Sxx_db_noNoise, std=0.5,\n",
        "                                display=False, savefig=None,\n",
        "                                **{'vmin':0, 'vmax':dB_max, 'extent':ext})\n",
        "    im_mask = rois.create_mask(im=Sxx_db_noNoise_smooth, mode_bin ='relative',\n",
        "                                  bin_std=8, bin_per=.5,\n",
        "                                  verbose=False, display=False)\n",
        "\n",
        "    im_rois, df_rois = rois.select_rois(im_mask, min_roi=25, max_roi=None,\n",
        "                                        display= False,\n",
        "                                        **{'extent':ext})\n",
        "\n",
        "    df_rois = format_features(df_rois, tn, fn)\n",
        "\n",
        "\n",
        "    area = (df_rois.max_x - df_rois.min_x) * (df_rois.max_y - df_rois.min_y)\n",
        "    df_rois[\"area\"] = area\n",
        "    ancho = (df_rois.max_x - df_rois.min_x)\n",
        "    df_rois[\"ancho\"] = ancho\n",
        "    duracion = (df_rois.max_t - df_rois.min_t)\n",
        "    df_rois[\"duracion\"] = duracion\n",
        "\n",
        "    #df_rois = df_rois[ (df_rois['area'] >= 100) & (df_rois['duracion'] >= 1)]\n",
        "    if(len(df_rois) == 0):\n",
        "      imageio.imwrite(rutaNueva, (Sxx_db_noNoise_smooth).astype(np.uint8))\n",
        "      img = iguala(cv2.imread(rutaNueva, cv2.IMREAD_GRAYSCALE))\n",
        "      cv2.imwrite(rutaNueva, img)\n",
        "      return\n",
        "    Sxx_db = Sxx_db_noNoise_smooth\n",
        "    #df_shape, params = features.shape_features(Sxx_db, resolution='low', rois=df_rois)\n",
        "    #df_centroid = features.centroid_features(Sxx_db, df_rois)\n",
        "\n",
        "    #median_freq = fn[np.round(df_centroid.centroid_y).astype(int)]\n",
        "    #df_centroid['centroid_freq'] = median_freq/fn[-1]\n",
        "\n",
        "    #from sklearn.manifold import TSNE\n",
        "\n",
        "    #X = df_shape.loc[:,df_shape.columns.str.startswith('shp')]\n",
        "    #X = X.join(df_centroid.centroid_freq) # add column and normalize values\n",
        "\n",
        "    #tsne = TSNE(n_components=2, perplexity=12, init='pca', verbose=True)\n",
        "    #Y = tsne.fit_transform(X)\n",
        "\n",
        "    #from sklearn.cluster import DBSCAN\n",
        "    #cluster = DBSCAN(eps=5, min_samples=4).fit(Y)\n",
        "\n",
        "    #df_rois['label'] = cluster.labels_.astype(str)\n",
        "\n",
        "    #from collections import Counter\n",
        "    #recuento = Counter(df_rois['label'])\n",
        "    #recuento=recuento.most_common(1)\n",
        "            \n",
        "    #df_rois = df_rois[ (df_rois['label'] == recuento[0][0])]\n",
        "    df_rois = agrupaRois(df_rois)\n",
        "    area = (df_rois.max_x - df_rois.min_x) * (df_rois.max_y - df_rois.min_y)\n",
        "    df_rois[\"area\"] = area\n",
        "    ancho = (df_rois.max_x - df_rois.min_x)\n",
        "    df_rois[\"ancho\"] = ancho\n",
        "    duracion = (df_rois.max_t - df_rois.min_t)\n",
        "    df_rois[\"duracion\"] = duracion\n",
        "    #Metodo primero descrito\n",
        "    # df_rois.sort_values(by = \"area\", ascending=False, inplace=True)\n",
        "    # indice = 0\n",
        "    # imagenGuardar = Sxx_db_noNoise_smooth\n",
        "    # for index, row in df_rois.iterrows():\n",
        "    #     if indice >= ROIS_AUDIO:\n",
        "    #         break\n",
        "    #     rutaNueva = os.path.join(espectograma,file+str(indice)+\".png\")\n",
        "    #     imagenGuardar = Sxx_db_noNoise_smooth[:,row[\"min_x\"]:row[\"max_x\"]]\n",
        "    #     imageio.imwrite(rutaNueva, (imagenGuardar).astype(np.uint8))\n",
        "    #     indice = indice + 1\n",
        "    #     img = iguala(cv2.imread(rutaNueva, cv2.IMREAD_GRAYSCALE))\n",
        "    #     cv2.imwrite(rutaNueva, img)\n",
        "    \n",
        "    df_rois.sort_values(by = \"min_x\", ascending=True, inplace=True)\n",
        "    indice = 0\n",
        "    imagenGuardar = Sxx_db_noNoise_smooth\n",
        "    for index, row in df_rois.iterrows():\n",
        "      if indice == 0:\n",
        "        imagenGuardar = Sxx_db_noNoise_smooth[0:192,row[\"min_x\"]:row[\"max_x\"]]\n",
        "      else:\n",
        "        imagenGuardar = np.concatenate((imagenGuardar,Sxx_db_noNoise_smooth[0:192,row[\"min_x\"]:row[\"max_x\"]]), axis=1)\n",
        "      indice = indice + 1\n",
        "    imageio.imwrite(rutaNueva, (imagenGuardar).astype(np.uint8))\n",
        "    img = iguala(cv2.imread(rutaNueva, cv2.IMREAD_GRAYSCALE))\n",
        "    cv2.imwrite(rutaNueva, img)\n",
        "  except Exception as e:\n",
        "    print('Failed: '+ str(e))"
      ]
    },
    {
      "cell_type": "code",
      "execution_count": null,
      "metadata": {
        "id": "rRQa76yG2weR"
      },
      "outputs": [],
      "source": [
        "def TercerMetodo(ruta):\n",
        "  path, fichero = os.path.split(ruta)\n",
        "  MismaDuracion = path.replace(\"Original\",\"MismaDuracion\")\n",
        "  existe = os.path.exists(MismaDuracion)#Se optiene si existe o no\n",
        "  if not existe:  \n",
        "    os.makedirs(MismaDuracion)\n",
        "  IgualarDuraciones(ruta,DURACION_MAXIMA)\n",
        "  Espectrograma2()\n",
        "  shutil.rmtree(original.replace(\"Original\",\"MismaDuracion\"))"
      ]
    },
    {
      "cell_type": "code",
      "execution_count": null,
      "metadata": {
        "id": "QlluYLuAtbOy"
      },
      "outputs": [],
      "source": [
        "def CuartoMetodo(ruta):\n",
        "  path, fichero = os.path.split(ruta)\n",
        "  MismaDuracion = path.replace(\"Original\",\"MismaDuracion\")\n",
        "  existe = os.path.exists(MismaDuracion)#Se optiene si existe o no\n",
        "  if not existe:  \n",
        "    os.makedirs(MismaDuracion)\n",
        "  IgualarDuraciones(ruta,DURACION_MAXIMA)\n",
        "  EspectrogramaMel()\n",
        "  shutil.rmtree(original.replace(\"Original\",\"MismaDuracion\"))"
      ]
    },
    {
      "cell_type": "code",
      "execution_count": null,
      "metadata": {
        "id": "cl7-o3MZujyg"
      },
      "outputs": [],
      "source": [
        "frecuenciaMaxima = 10000\n",
        "frecuenciaMinima = 1000\n",
        "DURACION_MAXIMA = 10 #EN SEGUNDOS\n",
        "metodo1=PrimerMetodo\n",
        "metodo2=SegundoMetodo\n",
        "metodo3=TercerMetodo\n",
        "metodo4=CuartoMetodo\n",
        "procesa = metodo2\n",
        "ROIS_AUDIO = 50\n",
        "SOBREESCRIBIR = False\n",
        "ANCHO = 265\n",
        "ALTO = 192\n",
        "contador = 0\n",
        "path = os.path.join('drive',\"MyDrive\",\"Colab Notebooks\", \"Cuaderno1\",\"DataSet\")\n",
        "original=os.path.join(path,\"Original\")\n",
        "entrenamiento=os.path.join(original,\"train\")\n",
        "test=os.path.join(original,\"test\")\n",
        "val=os.path.join(original,\"val\")\n",
        "existe = os.path.exists(entrenamiento)\n",
        "if not existe:  \n",
        "  os.makedirs(entrenamiento) \n",
        "existe = os.path.exists(test)\n",
        "if not existe:  \n",
        "  os.makedirs(test)\n",
        "existe = os.path.exists(val)\n",
        "if not existe:  \n",
        "  os.makedirs(val)"
      ]
    },
    {
      "cell_type": "code",
      "execution_count": null,
      "metadata": {
        "id": "sAEhbGiNwMAB"
      },
      "outputs": [],
      "source": [
        "fTotales = ficherosTotales()"
      ]
    },
    {
      "cell_type": "code",
      "execution_count": null,
      "metadata": {
        "colab": {
          "base_uri": "https://localhost:8080/"
        },
        "id": "x2YgmI0_0WkY",
        "outputId": "f8598850-501c-458e-b0d4-8bfb4dad6545"
      },
      "outputs": [
        {
          "output_type": "stream",
          "name": "stdout",
          "text": [
            "100% (899 de 899)"
          ]
        }
      ],
      "source": [
        "for nombre_directorio, dirs, ficheros in os.walk(original):\n",
        "    for nombre_fichero in ficheros:\n",
        "        ruta=os.path.join(nombre_directorio,nombre_fichero)\n",
        "        procesa(ruta)\n",
        "        contador = contador + 1\n",
        "        sys.stdout.write('\\r')\n",
        "        sys.stdout.write('%2.0f%% ' %np.round(((contador+1)/fTotales*100)))\n",
        "        sys.stdout.write('('+str(contador)+' de '+str(fTotales)+')')"
      ]
    },
    {
      "cell_type": "code",
      "execution_count": null,
      "metadata": {
        "id": "Az2TW7dU87rP",
        "colab": {
          "base_uri": "https://localhost:8080/",
          "height": 235
        },
        "outputId": "2a3ee3f2-4ac2-4dc5-bbfa-db3bcb6af9b6"
      },
      "outputs": [
        {
          "output_type": "error",
          "ename": "ValueError",
          "evalue": "ignored",
          "traceback": [
            "\u001b[0;31m---------------------------------------------------------------------------\u001b[0m",
            "\u001b[0;31mValueError\u001b[0m                                Traceback (most recent call last)",
            "\u001b[0;32m<ipython-input-17-1050cf028dac>\u001b[0m in \u001b[0;36m<module>\u001b[0;34m\u001b[0m\n\u001b[1;32m      2\u001b[0m   \u001b[0mfich\u001b[0m \u001b[0;34m=\u001b[0m \u001b[0;34m[\u001b[0m\u001b[0;34m]\u001b[0m\u001b[0;34m\u001b[0m\u001b[0;34m\u001b[0m\u001b[0m\n\u001b[1;32m      3\u001b[0m   \u001b[0;32mfor\u001b[0m \u001b[0mnombre_fichero\u001b[0m \u001b[0;32min\u001b[0m \u001b[0mficheros\u001b[0m\u001b[0;34m:\u001b[0m\u001b[0;34m\u001b[0m\u001b[0;34m\u001b[0m\u001b[0m\n\u001b[0;32m----> 4\u001b[0;31m     \u001b[0mfich\u001b[0m\u001b[0;34m.\u001b[0m\u001b[0mappend\u001b[0m\u001b[0;34m(\u001b[0m\u001b[0mfloat\u001b[0m\u001b[0;34m(\u001b[0m\u001b[0mnombre_fichero\u001b[0m\u001b[0;34m.\u001b[0m\u001b[0mreplace\u001b[0m\u001b[0;34m(\u001b[0m\u001b[0;34m\".png\"\u001b[0m\u001b[0;34m,\u001b[0m\u001b[0;34m\"\"\u001b[0m\u001b[0;34m)\u001b[0m\u001b[0;34m)\u001b[0m\u001b[0;34m)\u001b[0m\u001b[0;34m\u001b[0m\u001b[0;34m\u001b[0m\u001b[0m\n\u001b[0m\u001b[1;32m      5\u001b[0m   \u001b[0mfich\u001b[0m\u001b[0;34m.\u001b[0m\u001b[0msort\u001b[0m\u001b[0;34m(\u001b[0m\u001b[0;34m)\u001b[0m\u001b[0;34m\u001b[0m\u001b[0;34m\u001b[0m\u001b[0m\n\u001b[1;32m      6\u001b[0m   \u001b[0;32mfor\u001b[0m \u001b[0mi\u001b[0m \u001b[0;32min\u001b[0m \u001b[0mfich\u001b[0m\u001b[0;34m[\u001b[0m\u001b[0;34m:\u001b[0m\u001b[0;34m-\u001b[0m\u001b[0;36m300\u001b[0m\u001b[0;34m]\u001b[0m\u001b[0;34m:\u001b[0m\u001b[0;34m\u001b[0m\u001b[0;34m\u001b[0m\u001b[0m\n",
            "\u001b[0;31mValueError\u001b[0m: could not convert string to float: 'XC465523part1'"
          ]
        }
      ],
      "source": [
        "for nombre_directorio, dirs, ficheros in os.walk(original.replace(\"Original\",\"Espectrogramas\")):\n",
        "  fich = []\n",
        "  for nombre_fichero in ficheros:\n",
        "    fich.append(float(nombre_fichero.replace(\".png\",\"\")))\n",
        "  fich.sort()\n",
        "  for i in fich[:-300]:\n",
        "    pass#os.remove(os.path.join(nombre_directorio,str(i)+\".png\"))"
      ]
    }
  ],
  "metadata": {
    "colab": {
      "machine_shape": "hm",
      "provenance": [],
      "mount_file_id": "1F7zgVnO-5Q_ZfG04z4E-q_-YZgt10hW3",
      "authorship_tag": "ABX9TyMaAVml6cD5QPg3rtz4Z7AZ",
      "include_colab_link": true
    },
    "gpuClass": "standard",
    "kernelspec": {
      "display_name": "Python 3",
      "name": "python3"
    },
    "language_info": {
      "name": "python"
    }
  },
  "nbformat": 4,
  "nbformat_minor": 0
}