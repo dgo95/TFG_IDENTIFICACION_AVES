{
  "nbformat": 4,
  "nbformat_minor": 0,
  "metadata": {
    "colab": {
      "provenance": [],
      "machine_shape": "hm",
      "authorship_tag": "ABX9TyO53XsXnMDFhBYaNpGm4uFT",
      "include_colab_link": true
    },
    "kernelspec": {
      "name": "python3",
      "display_name": "Python 3"
    },
    "language_info": {
      "name": "python"
    },
    "gpuClass": "standard",
    "accelerator": "GPU"
  },
  "cells": [
    {
      "cell_type": "markdown",
      "metadata": {
        "id": "view-in-github",
        "colab_type": "text"
      },
      "source": [
        "<a href=\"https://colab.research.google.com/github/dgo95/TFG_IDENTIFICACION_AVES/blob/main/ResNet18.ipynb\" target=\"_parent\"><img src=\"https://colab.research.google.com/assets/colab-badge.svg\" alt=\"Open In Colab\"/></a>"
      ]
    },
    {
      "cell_type": "code",
      "source": [
        "!pip install tensorflow==2.8\n",
        "!apt install --allow-change-held-packages libcudnn8=8.1.0.77-1+cuda11.2"
      ],
      "metadata": {
        "colab": {
          "base_uri": "https://localhost:8080/"
        },
        "id": "9V5uAHf7DvEX",
        "outputId": "2b15c1b4-3497-42e0-d106-fc31586ecbec"
      },
      "execution_count": null,
      "outputs": [
        {
          "output_type": "stream",
          "name": "stdout",
          "text": [
            "Looking in indexes: https://pypi.org/simple, https://us-python.pkg.dev/colab-wheels/public/simple/\n",
            "Requirement already satisfied: tensorflow==2.8 in /usr/local/lib/python3.7/dist-packages (2.8.0+zzzcolab20220506162203)\n",
            "Requirement already satisfied: gast>=0.2.1 in /usr/local/lib/python3.7/dist-packages (from tensorflow==2.8) (0.4.0)\n",
            "Requirement already satisfied: keras-preprocessing>=1.1.1 in /usr/local/lib/python3.7/dist-packages (from tensorflow==2.8) (1.1.2)\n",
            "Requirement already satisfied: six>=1.12.0 in /usr/local/lib/python3.7/dist-packages (from tensorflow==2.8) (1.15.0)\n",
            "Requirement already satisfied: flatbuffers>=1.12 in /usr/local/lib/python3.7/dist-packages (from tensorflow==2.8) (1.12)\n",
            "Requirement already satisfied: tf-estimator-nightly==2.8.0.dev2021122109 in /usr/local/lib/python3.7/dist-packages (from tensorflow==2.8) (2.8.0.dev2021122109)\n",
            "Requirement already satisfied: keras<2.9,>=2.8.0rc0 in /usr/local/lib/python3.7/dist-packages (from tensorflow==2.8) (2.8.0)\n",
            "Requirement already satisfied: libclang>=9.0.1 in /usr/local/lib/python3.7/dist-packages (from tensorflow==2.8) (14.0.6)\n",
            "Requirement already satisfied: typing-extensions>=3.6.6 in /usr/local/lib/python3.7/dist-packages (from tensorflow==2.8) (4.1.1)\n",
            "Requirement already satisfied: protobuf>=3.9.2 in /usr/local/lib/python3.7/dist-packages (from tensorflow==2.8) (3.19.6)\n",
            "Requirement already satisfied: astunparse>=1.6.0 in /usr/local/lib/python3.7/dist-packages (from tensorflow==2.8) (1.6.3)\n",
            "Requirement already satisfied: h5py>=2.9.0 in /usr/local/lib/python3.7/dist-packages (from tensorflow==2.8) (3.1.0)\n",
            "Requirement already satisfied: grpcio<2.0,>=1.24.3 in /usr/local/lib/python3.7/dist-packages (from tensorflow==2.8) (1.50.0)\n",
            "Requirement already satisfied: tensorboard<2.9,>=2.8 in /usr/local/lib/python3.7/dist-packages (from tensorflow==2.8) (2.8.0)\n",
            "Requirement already satisfied: google-pasta>=0.1.1 in /usr/local/lib/python3.7/dist-packages (from tensorflow==2.8) (0.2.0)\n",
            "Requirement already satisfied: termcolor>=1.1.0 in /usr/local/lib/python3.7/dist-packages (from tensorflow==2.8) (2.1.0)\n",
            "Requirement already satisfied: numpy>=1.20 in /usr/local/lib/python3.7/dist-packages (from tensorflow==2.8) (1.21.6)\n",
            "Requirement already satisfied: opt-einsum>=2.3.2 in /usr/local/lib/python3.7/dist-packages (from tensorflow==2.8) (3.3.0)\n",
            "Requirement already satisfied: wrapt>=1.11.0 in /usr/local/lib/python3.7/dist-packages (from tensorflow==2.8) (1.14.1)\n",
            "Requirement already satisfied: absl-py>=0.4.0 in /usr/local/lib/python3.7/dist-packages (from tensorflow==2.8) (1.3.0)\n",
            "Requirement already satisfied: setuptools in /usr/local/lib/python3.7/dist-packages (from tensorflow==2.8) (57.4.0)\n",
            "Requirement already satisfied: tensorflow-io-gcs-filesystem>=0.23.1 in /usr/local/lib/python3.7/dist-packages (from tensorflow==2.8) (0.27.0)\n",
            "Requirement already satisfied: wheel<1.0,>=0.23.0 in /usr/local/lib/python3.7/dist-packages (from astunparse>=1.6.0->tensorflow==2.8) (0.38.3)\n",
            "Requirement already satisfied: cached-property in /usr/local/lib/python3.7/dist-packages (from h5py>=2.9.0->tensorflow==2.8) (1.5.2)\n",
            "Requirement already satisfied: werkzeug>=0.11.15 in /usr/local/lib/python3.7/dist-packages (from tensorboard<2.9,>=2.8->tensorflow==2.8) (1.0.1)\n",
            "Requirement already satisfied: google-auth<3,>=1.6.3 in /usr/local/lib/python3.7/dist-packages (from tensorboard<2.9,>=2.8->tensorflow==2.8) (2.14.1)\n",
            "Requirement already satisfied: tensorboard-plugin-wit>=1.6.0 in /usr/local/lib/python3.7/dist-packages (from tensorboard<2.9,>=2.8->tensorflow==2.8) (1.8.1)\n",
            "Requirement already satisfied: markdown>=2.6.8 in /usr/local/lib/python3.7/dist-packages (from tensorboard<2.9,>=2.8->tensorflow==2.8) (3.4.1)\n",
            "Requirement already satisfied: requests<3,>=2.21.0 in /usr/local/lib/python3.7/dist-packages (from tensorboard<2.9,>=2.8->tensorflow==2.8) (2.23.0)\n",
            "Requirement already satisfied: google-auth-oauthlib<0.5,>=0.4.1 in /usr/local/lib/python3.7/dist-packages (from tensorboard<2.9,>=2.8->tensorflow==2.8) (0.4.6)\n",
            "Requirement already satisfied: tensorboard-data-server<0.7.0,>=0.6.0 in /usr/local/lib/python3.7/dist-packages (from tensorboard<2.9,>=2.8->tensorflow==2.8) (0.6.1)\n",
            "Requirement already satisfied: cachetools<6.0,>=2.0.0 in /usr/local/lib/python3.7/dist-packages (from google-auth<3,>=1.6.3->tensorboard<2.9,>=2.8->tensorflow==2.8) (5.2.0)\n",
            "Requirement already satisfied: pyasn1-modules>=0.2.1 in /usr/local/lib/python3.7/dist-packages (from google-auth<3,>=1.6.3->tensorboard<2.9,>=2.8->tensorflow==2.8) (0.2.8)\n",
            "Requirement already satisfied: rsa<5,>=3.1.4 in /usr/local/lib/python3.7/dist-packages (from google-auth<3,>=1.6.3->tensorboard<2.9,>=2.8->tensorflow==2.8) (4.9)\n",
            "Requirement already satisfied: requests-oauthlib>=0.7.0 in /usr/local/lib/python3.7/dist-packages (from google-auth-oauthlib<0.5,>=0.4.1->tensorboard<2.9,>=2.8->tensorflow==2.8) (1.3.1)\n",
            "Requirement already satisfied: importlib-metadata>=4.4 in /usr/local/lib/python3.7/dist-packages (from markdown>=2.6.8->tensorboard<2.9,>=2.8->tensorflow==2.8) (4.13.0)\n",
            "Requirement already satisfied: zipp>=0.5 in /usr/local/lib/python3.7/dist-packages (from importlib-metadata>=4.4->markdown>=2.6.8->tensorboard<2.9,>=2.8->tensorflow==2.8) (3.10.0)\n",
            "Requirement already satisfied: pyasn1<0.5.0,>=0.4.6 in /usr/local/lib/python3.7/dist-packages (from pyasn1-modules>=0.2.1->google-auth<3,>=1.6.3->tensorboard<2.9,>=2.8->tensorflow==2.8) (0.4.8)\n",
            "Requirement already satisfied: urllib3!=1.25.0,!=1.25.1,<1.26,>=1.21.1 in /usr/local/lib/python3.7/dist-packages (from requests<3,>=2.21.0->tensorboard<2.9,>=2.8->tensorflow==2.8) (1.24.3)\n",
            "Requirement already satisfied: certifi>=2017.4.17 in /usr/local/lib/python3.7/dist-packages (from requests<3,>=2.21.0->tensorboard<2.9,>=2.8->tensorflow==2.8) (2022.9.24)\n",
            "Requirement already satisfied: idna<3,>=2.5 in /usr/local/lib/python3.7/dist-packages (from requests<3,>=2.21.0->tensorboard<2.9,>=2.8->tensorflow==2.8) (2.10)\n",
            "Requirement already satisfied: chardet<4,>=3.0.2 in /usr/local/lib/python3.7/dist-packages (from requests<3,>=2.21.0->tensorboard<2.9,>=2.8->tensorflow==2.8) (3.0.4)\n",
            "Requirement already satisfied: oauthlib>=3.0.0 in /usr/local/lib/python3.7/dist-packages (from requests-oauthlib>=0.7.0->google-auth-oauthlib<0.5,>=0.4.1->tensorboard<2.9,>=2.8->tensorflow==2.8) (3.2.2)\n",
            "Reading package lists... Done\n",
            "Building dependency tree       \n",
            "Reading state information... Done\n",
            "libcudnn8 is already the newest version (8.1.0.77-1+cuda11.2).\n",
            "The following package was automatically installed and is no longer required:\n",
            "  libnvidia-common-460\n",
            "Use 'apt autoremove' to remove it.\n",
            "0 upgraded, 0 newly installed, 0 to remove and 3 not upgraded.\n"
          ]
        }
      ]
    },
    {
      "cell_type": "code",
      "source": [
        "from google.colab import drive\n",
        "drive.mount('/content/drive')"
      ],
      "metadata": {
        "id": "kIe5rEvfWAEV",
        "colab": {
          "base_uri": "https://localhost:8080/"
        },
        "outputId": "97d7988e-47c8-4ab0-a112-887ff51e1ae6"
      },
      "execution_count": null,
      "outputs": [
        {
          "output_type": "stream",
          "name": "stdout",
          "text": [
            "Mounted at /content/drive\n"
          ]
        }
      ]
    },
    {
      "cell_type": "code",
      "execution_count": null,
      "metadata": {
        "id": "exlCsGKTvBLj"
      },
      "outputs": [],
      "source": [
        "from tensorflow.keras.layers import Dense\n",
        "from tensorflow.keras.layers import Activation\n",
        "from tensorflow.keras.models import Sequential\n",
        "from tensorflow.keras.preprocessing.image import ImageDataGenerator\n",
        "from tensorflow.keras.utils import to_categorical\n",
        "from keras.applications.efficientnet import preprocess_input\n",
        "import matplotlib.pyplot as plt #Dibujo\n",
        "import numpy as np\n",
        "from sklearn.utils import class_weight\n",
        "import os\n",
        "from sklearn.model_selection import train_test_split\n",
        "os.environ[\"KMP_DUPLICATE_LIB_OK\"]=\"TRUE\"\n",
        "import tensorflow as tf\n",
        "import tensorflow.keras.activations as nn\n",
        "import time as tempo\n",
        "import pandas as pd\n",
        "# Import seaborn\n",
        "import seaborn as sns"
      ]
    },
    {
      "cell_type": "code",
      "source": [
        "\"\"\"ResNet-18\n",
        "Reference:\n",
        "[1] K. He et al. Deep Residual Learning for Image Recognition. CVPR, 2016\n",
        "[2] K. He, X. Zhang, S. Ren, and J. Sun. Delving deep into rectifiers:\n",
        "Surpassing human-level performance on imagenet classification. In\n",
        "ICCV, 2015.\n",
        "\"\"\"\n",
        "\n",
        "\n",
        "from keras.callbacks import EarlyStopping\n",
        "from keras.layers import Dense, Conv2D,  MaxPool2D, Flatten, GlobalAveragePooling2D,  BatchNormalization, Layer, Add\n",
        "from keras.models import Sequential\n",
        "from keras.models import Model\n",
        "import tensorflow as tf\n",
        "\n",
        "\n",
        "class ResnetBlock(Model):\n",
        "    \"\"\"\n",
        "    A standard resnet block.\n",
        "    \"\"\"\n",
        "\n",
        "    def __init__(self, channels: int, down_sample=False):\n",
        "        \"\"\"\n",
        "        channels: same as number of convolution kernels\n",
        "        \"\"\"\n",
        "        super().__init__()\n",
        "\n",
        "        self.__channels = channels\n",
        "        self.__down_sample = down_sample\n",
        "        self.__strides = [2, 1] if down_sample else [1, 1]\n",
        "\n",
        "        KERNEL_SIZE = (3, 3)\n",
        "        # use He initialization, instead of Xavier (a.k.a 'glorot_uniform' in Keras), as suggested in [2]\n",
        "        INIT_SCHEME = \"he_normal\"\n",
        "        \n",
        "\n",
        "        self.conv_1 = Conv2D(self.__channels, strides=self.__strides[0],\n",
        "                             kernel_size=KERNEL_SIZE, padding=\"same\", kernel_initializer=tf.keras.initializers.RandomNormal(mean=0., stddev=0.02))\n",
        "        self.bn_1 = BatchNormalization()\n",
        "        self.conv_2 = Conv2D(self.__channels, strides=self.__strides[1],\n",
        "                             kernel_size=KERNEL_SIZE, padding=\"same\", kernel_initializer=tf.keras.initializers.RandomNormal(mean=1., stddev=0.02))\n",
        "        self.bn_2 = BatchNormalization()\n",
        "        self.merge = Add()\n",
        "\n",
        "        if self.__down_sample:\n",
        "            # perform down sampling using stride of 2, according to [1].\n",
        "            self.res_conv = Conv2D(\n",
        "                self.__channels, strides=2, kernel_size=(1, 1), kernel_initializer=INIT_SCHEME, padding=\"same\")\n",
        "            self.res_bn = BatchNormalization()\n",
        "\n",
        "    def call(self, inputs):\n",
        "        res = inputs\n",
        "\n",
        "        x = self.conv_1(inputs)\n",
        "        x = self.bn_1(x)\n",
        "        x = tf.nn.relu(x)\n",
        "        x = self.conv_2(x)\n",
        "        x = self.bn_2(x)\n",
        "\n",
        "        if self.__down_sample:\n",
        "            res = self.res_conv(res)\n",
        "            res = self.res_bn(res)\n",
        "\n",
        "        # if not perform down sample, then add a shortcut directly\n",
        "        x = self.merge([x, res])\n",
        "        out = tf.nn.relu(x)\n",
        "        return out\n",
        "\n",
        "\n",
        "class ResNet18(Model):\n",
        "\n",
        "    def __init__(self, num_classes, **kwargs):\n",
        "        \"\"\"\n",
        "            num_classes: number of classes in specific classification task.\n",
        "        \"\"\"\n",
        "        super().__init__(**kwargs)\n",
        "        self.conv_1 = Conv2D(64, (7, 7), strides=2,\n",
        "                             padding=\"same\", kernel_initializer=\"he_normal\")\n",
        "        self.init_bn = BatchNormalization()\n",
        "        self.pool_2 = MaxPool2D(pool_size=(2, 2), strides=2, padding=\"same\")\n",
        "        self.res_1_1 = ResnetBlock(64)\n",
        "        self.res_1_2 = ResnetBlock(64)\n",
        "        self.res_2_1 = ResnetBlock(128, down_sample=True)\n",
        "        self.res_2_2 = ResnetBlock(128)\n",
        "        self.res_3_1 = ResnetBlock(256, down_sample=True)\n",
        "        self.res_3_2 = ResnetBlock(256)\n",
        "        self.res_4_1 = ResnetBlock(512, down_sample=True)\n",
        "        self.res_4_2 = ResnetBlock(512)\n",
        "        self.avg_pool = GlobalAveragePooling2D()\n",
        "        self.flat = Flatten()\n",
        "        self.fc = Dense(num_classes, activation=\"softmax\")\n",
        "\n",
        "    def call(self, inputs):\n",
        "        out = self.conv_1(inputs)\n",
        "        out = self.init_bn(out)\n",
        "        out = tf.nn.relu(out)\n",
        "        out = self.pool_2(out)\n",
        "        for res_block in [self.res_1_1, self.res_1_2, self.res_2_1, self.res_2_2, self.res_3_1, self.res_3_2, self.res_4_1, self.res_4_2]:\n",
        "            out = res_block(out)\n",
        "        out = self.avg_pool(out)\n",
        "        out = self.flat(out)\n",
        "        out = self.fc(out)\n",
        "        return out"
      ],
      "metadata": {
        "id": "JJjgQkmQrcax"
      },
      "execution_count": null,
      "outputs": []
    },
    {
      "cell_type": "code",
      "source": [
        "def enHorasYMinutos(seg):\n",
        "    horas = seg // 3600\n",
        "    seg = seg - horas * 3600\n",
        "    minutos = seg // 60\n",
        "    seg = seg - minutos *60\n",
        "    aux = str(int(horas))+\" horas \"+str(int(minutos))+\" minutos y \"+str(int(seg))+\" segundos\"\n",
        "    return aux"
      ],
      "metadata": {
        "id": "hQUbFregrMhs"
      },
      "execution_count": null,
      "outputs": []
    },
    {
      "cell_type": "code",
      "source": [
        "EPOCAS = 100\n",
        "lr = 0.1\n",
        "BATCH_SIZE = 64\n",
        "#cargar datos\n",
        "train_images = []\n",
        "train_labels = []\n",
        "test_images = []\n",
        "test_labels = []\n",
        "val_images = []\n",
        "val_labels = []\n",
        "# lectura de los datos\n",
        "\n",
        "path = os.path.join('drive',\"MyDrive\",\"Colab Notebooks\", \"Cuaderno1\")\n",
        "entrenamientoPath=os.path.join(path,\"DataSet\",\"Espectrogramas\", \"train\")\n",
        "testPath = os.path.join(path,\"DataSet\",\"Espectrogramas\", \"test\")\n",
        "valPath = os.path.join(path,\"DataSet\",\"Espectrogramas\", \"val\")\n",
        "etiqueta = -1\n",
        "NUM_AVES=-1\n",
        "IM_SIZE1 = (216, 192)\n",
        "leyenda = {}\n",
        "BIRDS = []"
      ],
      "metadata": {
        "id": "wD27AGoXrO0c"
      },
      "execution_count": null,
      "outputs": []
    },
    {
      "cell_type": "code",
      "source": [
        "for nombre_directorio, dirs, ficheros in os.walk(entrenamientoPath):\n",
        "    NUM_AVES = NUM_AVES + 1\n",
        "    for nombre_fichero in ficheros:\n",
        "        ruta=os.path.join(nombre_directorio,nombre_fichero)\n",
        "        filename, file_extension = os.path.splitext(ruta)\n",
        "        # cargar la interfaz a la base de datos que vienen con keras\n",
        "        # lectura de los datos\n",
        "        image = tf.keras.preprocessing.image.load_img(ruta,color_mode=\"grayscale\")\n",
        "        input_arr = tf.keras.preprocessing.image.img_to_array(image)\n",
        "        #input_arr = np.dot(input_arr[...,:3], rgb_weights).round()\n",
        "        #input_arr = np.array([input_arr])  # Convert single image to a batch.\n",
        "        train_images.append(input_arr)\n",
        "        train_labels.append(etiqueta)\n",
        "    etiqueta = etiqueta + 1\n",
        "etiqueta = -1\n",
        "for nombre_directorio, dirs, ficheros in os.walk(testPath):\n",
        "    print(\"Directorio: \",nombre_directorio)\n",
        "    print(\"Etiqueta: \",etiqueta)\n",
        "    for nombre_fichero in ficheros:\n",
        "        ruta=os.path.join(nombre_directorio,nombre_fichero)\n",
        "        filename, file_extension = os.path.splitext(ruta)\n",
        "        # cargar la interfaz a la base de datos que vienen con keras\n",
        "        # lectura de los datos\n",
        "        image = tf.keras.preprocessing.image.load_img(ruta,color_mode=\"grayscale\")\n",
        "        input_arr = tf.keras.preprocessing.image.img_to_array(image)\n",
        "        #input_arr = np.dot(input_arr[...,:3], rgb_weights).round()\n",
        "        #input_arr = np.array([input_arr])  # Convert single image to a batch.\n",
        "        test_images.append(input_arr)\n",
        "        test_labels.append(etiqueta)\n",
        "    etiqueta = etiqueta + 1\n",
        "etiqueta = -1\n",
        "for nombre_directorio, dirs, ficheros in os.walk(valPath):\n",
        "    print(\"Directorio: \",nombre_directorio)\n",
        "    print(\"Etiqueta: \",etiqueta)\n",
        "    for nombre_fichero in ficheros:\n",
        "        ruta=os.path.join(nombre_directorio,nombre_fichero)\n",
        "        filename, file_extension = os.path.splitext(ruta)\n",
        "        # cargar la interfaz a la base de datos que vienen con keras\n",
        "        # lectura de los datos\n",
        "        image = tf.keras.preprocessing.image.load_img(ruta,color_mode=\"grayscale\")\n",
        "        input_arr = tf.keras.preprocessing.image.img_to_array(image)\n",
        "        #input_arr = np.dot(input_arr[...,:3], rgb_weights).round()\n",
        "        #input_arr = np.array([input_arr])  # Convert single image to a batch.\n",
        "        val_images.append(input_arr)\n",
        "        val_labels.append(etiqueta)\n",
        "    etiqueta = etiqueta + 1"
      ],
      "metadata": {
        "id": "gjvVsB2wrVri",
        "colab": {
          "base_uri": "https://localhost:8080/"
        },
        "outputId": "5f16942b-f2c8-40c0-fdeb-c61092611a27"
      },
      "execution_count": null,
      "outputs": [
        {
          "output_type": "stream",
          "name": "stdout",
          "text": [
            "Directorio:  drive/MyDrive/Colab Notebooks/Cuaderno1/DataSet/Espectrogramas/test\n",
            "Etiqueta:  -1\n",
            "Directorio:  drive/MyDrive/Colab Notebooks/Cuaderno1/DataSet/Espectrogramas/test/Emberiza cirlus_Cirl Bunting\n",
            "Etiqueta:  0\n",
            "Directorio:  drive/MyDrive/Colab Notebooks/Cuaderno1/DataSet/Espectrogramas/test/Serinus serinus_European Serin\n",
            "Etiqueta:  1\n",
            "Directorio:  drive/MyDrive/Colab Notebooks/Cuaderno1/DataSet/Espectrogramas/test/Emberiza citrinella_Yellowhammer\n",
            "Etiqueta:  2\n",
            "Directorio:  drive/MyDrive/Colab Notebooks/Cuaderno1/DataSet/Espectrogramas/val\n",
            "Etiqueta:  -1\n",
            "Directorio:  drive/MyDrive/Colab Notebooks/Cuaderno1/DataSet/Espectrogramas/val/Emberiza cirlus_Cirl Bunting\n",
            "Etiqueta:  0\n",
            "Directorio:  drive/MyDrive/Colab Notebooks/Cuaderno1/DataSet/Espectrogramas/val/Serinus serinus_European Serin\n",
            "Etiqueta:  1\n",
            "Directorio:  drive/MyDrive/Colab Notebooks/Cuaderno1/DataSet/Espectrogramas/val/Emberiza citrinella_Yellowhammer\n",
            "Etiqueta:  2\n"
          ]
        }
      ]
    },
    {
      "cell_type": "code",
      "execution_count": null,
      "metadata": {
        "id": "wmNG0gRCFk_Z",
        "colab": {
          "base_uri": "https://localhost:8080/"
        },
        "outputId": "6f351c49-9b2e-4c45-c5b3-30ff830392b2"
      },
      "outputs": [
        {
          "output_type": "stream",
          "name": "stdout",
          "text": [
            "Entrenamiento\n",
            "Maximos x:  192  y:  265  z:  1\n",
            "Minimos x:  192  y:  265  z:  1\n",
            "Test\n",
            "Maximos x:  192  y:  265  z:  1\n",
            "Minimos x:  192  y:  265  z:  1\n",
            "Validación\n",
            "Maximos x:  192  y:  265  z:  1\n",
            "Minimos x:  192  y:  265  z:  1\n"
          ]
        }
      ],
      "source": [
        "x = []\n",
        "y = []\n",
        "z = []\n",
        "print(\"Entrenamiento\")\n",
        "for t in train_images:\n",
        "  x.append(t.shape[0])\n",
        "  y.append(t.shape[1])\n",
        "  z.append(t.shape[2])\n",
        "print(\"Maximos x: \",np.max(x),\" y: \",np.max(y),\" z: \",np.max(z))\n",
        "print(\"Minimos x: \",np.min(x),\" y: \",np.min(y),\" z: \",np.min(z))\n",
        "x = []\n",
        "y = []\n",
        "z = []\n",
        "print(\"Test\")\n",
        "for t in test_images:\n",
        "  x.append(t.shape[0])\n",
        "  y.append(t.shape[1])\n",
        "  z.append(t.shape[2])\n",
        "print(\"Maximos x: \",np.max(x),\" y: \",np.max(y),\" z: \",np.max(z))\n",
        "print(\"Minimos x: \",np.min(x),\" y: \",np.min(y),\" z: \",np.min(z))\n",
        "x = []\n",
        "y = []\n",
        "z = []\n",
        "print(\"Validación\")\n",
        "for t in val_images:\n",
        "  x.append(t.shape[0])\n",
        "  y.append(t.shape[1])\n",
        "  z.append(t.shape[2])\n",
        "print(\"Maximos x: \",np.max(x),\" y: \",np.max(y),\" z: \",np.max(z))\n",
        "print(\"Minimos x: \",np.min(x),\" y: \",np.min(y),\" z: \",np.min(z))"
      ]
    },
    {
      "cell_type": "code",
      "source": [
        "train_images = np.array(train_images)\n",
        "train_labels = np.array(train_labels)\n",
        "test_images = np.array(test_images)\n",
        "test_labels = np.array(test_labels)\n",
        "val_images = np.array(val_images)\n",
        "val_labels = np.array(val_labels)\n",
        "print('Dimensiones del conjunto de entrenamiento: ', train_images.shape)\n",
        "print('Dimensiones del conjunto de evaluación: ',    test_images.shape)\n",
        "print('Dimensiones del conjunto de validación: ',    val_images.shape)\n",
        "\n",
        "print('Dimensiones del conjunto de entrenamiento: ', train_labels.shape)\n",
        "print('Dimensiones del conjunto de evaluación: ',    test_labels.shape)\n",
        "print('Dimensiones del conjunto de validación: ',    val_labels.shape)"
      ],
      "metadata": {
        "colab": {
          "base_uri": "https://localhost:8080/"
        },
        "id": "1XrDjzElqFgt",
        "outputId": "53f23cff-df1f-4a96-e3e1-b555b9df6fab"
      },
      "execution_count": null,
      "outputs": [
        {
          "output_type": "stream",
          "name": "stdout",
          "text": [
            "Dimensiones del conjunto de entrenamiento:  (722, 192, 265, 1)\n",
            "Dimensiones del conjunto de evaluación:  (87, 192, 265, 1)\n",
            "Dimensiones del conjunto de validación:  (90, 192, 265, 1)\n",
            "Dimensiones del conjunto de entrenamiento:  (722,)\n",
            "Dimensiones del conjunto de evaluación:  (87,)\n",
            "Dimensiones del conjunto de validación:  (90,)\n"
          ]
        }
      ]
    },
    {
      "cell_type": "code",
      "source": [
        "b = train_images.shape[0]\n",
        "c = test_images.shape[0]\n",
        "d = val_images.shape[0]\n",
        "\n",
        "#train_images = train_images.reshape((b, -1))\n",
        "train_images = train_images.astype('float32') / 255\n",
        "\n",
        "#test_images  = test_images.reshape((c, -1))\n",
        "test_images  = test_images.astype('float32') / 255\n",
        "\n",
        "#val_images  = val_images.reshape((c, -1))\n",
        "val_images  = val_images.astype('float32') / 255\n",
        "\n",
        "#numIm, szIm  = train_images.shape\n",
        "\n",
        "# One shot sobre las etiquetas\n",
        "\n",
        "train_labels = to_categorical(train_labels)\n",
        "test_labels  = to_categorical(test_labels)\n",
        "val_labels  = to_categorical(val_labels)"
      ],
      "metadata": {
        "id": "TyzYNT-trW0u"
      },
      "execution_count": null,
      "outputs": []
    },
    {
      "cell_type": "code",
      "source": [
        "a = train_images.shape[1:]\n",
        "a = list(a)\n",
        "a.insert(0,None)\n",
        "s = tuple(a)\n",
        "model = ResNet18(NUM_AVES)\n",
        "model.build(input_shape = s)\n",
        "#use categorical_crossentropy since the label is one-hot encoded\n",
        "sgd = tf.keras.optimizers.SGD(\n",
        "    learning_rate=lr,\n",
        "    momentum=0.9)\n",
        "model.compile(optimizer = sgd,loss='categorical_crossentropy', metrics=[\"accuracy\"]) \n",
        "model.summary()"
      ],
      "metadata": {
        "id": "ha9ggpY4usEL",
        "colab": {
          "base_uri": "https://localhost:8080/"
        },
        "outputId": "53803ce2-cdef-4b5f-a3db-b1ce8c5784ca"
      },
      "execution_count": null,
      "outputs": [
        {
          "output_type": "stream",
          "name": "stderr",
          "text": [
            "WARNING:tensorflow:AutoGraph could not transform <bound method ResnetBlock.call of <__main__.ResnetBlock object at 0x7f4ec5cfbdd0>> and will run it as-is.\n",
            "Cause: mangled names are not yet supported\n",
            "To silence this warning, decorate the function with @tf.autograph.experimental.do_not_convert\n"
          ]
        },
        {
          "output_type": "stream",
          "name": "stdout",
          "text": [
            "WARNING: AutoGraph could not transform <bound method ResnetBlock.call of <__main__.ResnetBlock object at 0x7f4ec5cfbdd0>> and will run it as-is.\n",
            "Cause: mangled names are not yet supported\n",
            "To silence this warning, decorate the function with @tf.autograph.experimental.do_not_convert\n",
            "Model: \"res_net18\"\n",
            "_________________________________________________________________\n",
            " Layer (type)                Output Shape              Param #   \n",
            "=================================================================\n",
            " conv2d (Conv2D)             multiple                  3200      \n",
            "                                                                 \n",
            " batch_normalization (BatchN  multiple                 256       \n",
            " ormalization)                                                   \n",
            "                                                                 \n",
            " max_pooling2d (MaxPooling2D  multiple                 0         \n",
            " )                                                               \n",
            "                                                                 \n",
            " resnet_block (ResnetBlock)  multiple                  74368     \n",
            "                                                                 \n",
            " resnet_block_1 (ResnetBlock  multiple                 74368     \n",
            " )                                                               \n",
            "                                                                 \n",
            " resnet_block_2 (ResnetBlock  multiple                 231296    \n",
            " )                                                               \n",
            "                                                                 \n",
            " resnet_block_3 (ResnetBlock  multiple                 296192    \n",
            " )                                                               \n",
            "                                                                 \n",
            " resnet_block_4 (ResnetBlock  multiple                 921344    \n",
            " )                                                               \n",
            "                                                                 \n",
            " resnet_block_5 (ResnetBlock  multiple                 1182208   \n",
            " )                                                               \n",
            "                                                                 \n",
            " resnet_block_6 (ResnetBlock  multiple                 3677696   \n",
            " )                                                               \n",
            "                                                                 \n",
            " resnet_block_7 (ResnetBlock  multiple                 4723712   \n",
            " )                                                               \n",
            "                                                                 \n",
            " global_average_pooling2d (G  multiple                 0         \n",
            " lobalAveragePooling2D)                                          \n",
            "                                                                 \n",
            " flatten (Flatten)           multiple                  0         \n",
            "                                                                 \n",
            " dense (Dense)               multiple                  1539      \n",
            "                                                                 \n",
            "=================================================================\n",
            "Total params: 11,186,179\n",
            "Trainable params: 11,176,579\n",
            "Non-trainable params: 9,600\n",
            "_________________________________________________________________\n"
          ]
        }
      ]
    },
    {
      "cell_type": "code",
      "execution_count": null,
      "metadata": {
        "id": "Oi_SMnCpJneU",
        "colab": {
          "base_uri": "https://localhost:8080/"
        },
        "outputId": "949ba22d-f502-465c-f38a-2e0806bb1f81"
      },
      "outputs": [
        {
          "output_type": "stream",
          "name": "stdout",
          "text": [
            "Epoch 1/100\n",
            "12/12 - 11s - loss: 8.0850 - accuracy: 0.3560 - val_loss: 8879496192.0000 - val_accuracy: 0.3333 - 11s/epoch - 931ms/step\n",
            "Epoch 2/100\n",
            "12/12 - 2s - loss: 8.8974 - accuracy: 0.3449 - val_loss: 6701999.0000 - val_accuracy: 0.3333 - 2s/epoch - 192ms/step\n",
            "Epoch 3/100\n",
            "12/12 - 2s - loss: 7.5378 - accuracy: 0.3629 - val_loss: 1105220.8750 - val_accuracy: 0.3333 - 2s/epoch - 191ms/step\n",
            "Epoch 4/100\n",
            "12/12 - 2s - loss: 7.3298 - accuracy: 0.3130 - val_loss: 5426716.5000 - val_accuracy: 0.3333 - 2s/epoch - 191ms/step\n",
            "Epoch 5/100\n",
            "12/12 - 2s - loss: 8.5490 - accuracy: 0.3075 - val_loss: 783486.7500 - val_accuracy: 0.3333 - 2s/epoch - 191ms/step\n",
            "Epoch 6/100\n",
            "12/12 - 2s - loss: 3.1713 - accuracy: 0.3601 - val_loss: 23407.7148 - val_accuracy: 0.3333 - 2s/epoch - 191ms/step\n",
            "Epoch 7/100\n",
            "12/12 - 2s - loss: 1.2015 - accuracy: 0.3532 - val_loss: 3982.9795 - val_accuracy: 0.3333 - 2s/epoch - 191ms/step\n",
            "Epoch 8/100\n",
            "12/12 - 2s - loss: 1.1004 - accuracy: 0.4363 - val_loss: 1198.2257 - val_accuracy: 0.3333 - 2s/epoch - 192ms/step\n",
            "Epoch 9/100\n",
            "12/12 - 2s - loss: 1.0568 - accuracy: 0.4778 - val_loss: 416.1396 - val_accuracy: 0.2000 - 2s/epoch - 192ms/step\n",
            "Epoch 10/100\n",
            "12/12 - 2s - loss: 0.9644 - accuracy: 0.5000 - val_loss: 174.0319 - val_accuracy: 0.3222 - 2s/epoch - 192ms/step\n",
            "Epoch 11/100\n",
            "12/12 - 2s - loss: 0.9281 - accuracy: 0.5485 - val_loss: 98.1214 - val_accuracy: 0.2333 - 2s/epoch - 193ms/step\n",
            "Epoch 12/100\n",
            "12/12 - 2s - loss: 0.8880 - accuracy: 0.5499 - val_loss: 45.3156 - val_accuracy: 0.2556 - 2s/epoch - 193ms/step\n",
            "Epoch 13/100\n",
            "12/12 - 2s - loss: 0.8572 - accuracy: 0.5665 - val_loss: 22.2711 - val_accuracy: 0.2778 - 2s/epoch - 193ms/step\n",
            "Epoch 14/100\n",
            "12/12 - 2s - loss: 0.8428 - accuracy: 0.5526 - val_loss: 13.3240 - val_accuracy: 0.2667 - 2s/epoch - 194ms/step\n",
            "Epoch 15/100\n",
            "12/12 - 2s - loss: 0.8833 - accuracy: 0.5443 - val_loss: 8.1935 - val_accuracy: 0.3000 - 2s/epoch - 194ms/step\n",
            "Epoch 16/100\n",
            "12/12 - 2s - loss: 0.8607 - accuracy: 0.5319 - val_loss: 4.9321 - val_accuracy: 0.3444 - 2s/epoch - 194ms/step\n",
            "Epoch 17/100\n",
            "12/12 - 2s - loss: 0.8019 - accuracy: 0.5942 - val_loss: 3.4939 - val_accuracy: 0.3556 - 2s/epoch - 196ms/step\n",
            "Epoch 18/100\n",
            "12/12 - 2s - loss: 0.7829 - accuracy: 0.5983 - val_loss: 2.7043 - val_accuracy: 0.3444 - 2s/epoch - 196ms/step\n",
            "Epoch 19/100\n",
            "12/12 - 2s - loss: 0.7729 - accuracy: 0.6163 - val_loss: 2.0693 - val_accuracy: 0.3222 - 2s/epoch - 196ms/step\n",
            "Epoch 20/100\n",
            "12/12 - 2s - loss: 0.7638 - accuracy: 0.6302 - val_loss: 1.7793 - val_accuracy: 0.2889 - 2s/epoch - 196ms/step\n",
            "Epoch 21/100\n",
            "12/12 - 2s - loss: 0.7497 - accuracy: 0.6468 - val_loss: 1.7556 - val_accuracy: 0.3667 - 2s/epoch - 196ms/step\n",
            "Epoch 22/100\n",
            "12/12 - 2s - loss: 0.7281 - accuracy: 0.6427 - val_loss: 1.3350 - val_accuracy: 0.3444 - 2s/epoch - 197ms/step\n",
            "Epoch 23/100\n",
            "12/12 - 2s - loss: 0.7152 - accuracy: 0.6247 - val_loss: 1.3212 - val_accuracy: 0.3444 - 2s/epoch - 197ms/step\n",
            "Epoch 24/100\n",
            "12/12 - 2s - loss: 0.7399 - accuracy: 0.6440 - val_loss: 1.2289 - val_accuracy: 0.3333 - 2s/epoch - 198ms/step\n",
            "Epoch 25/100\n",
            "12/12 - 2s - loss: 0.7338 - accuracy: 0.6288 - val_loss: 1.3384 - val_accuracy: 0.3111 - 2s/epoch - 197ms/step\n",
            "Epoch 26/100\n",
            "12/12 - 2s - loss: 0.7703 - accuracy: 0.6080 - val_loss: 0.9229 - val_accuracy: 0.5333 - 2s/epoch - 197ms/step\n",
            "Epoch 27/100\n",
            "12/12 - 2s - loss: 0.7087 - accuracy: 0.6759 - val_loss: 1.1138 - val_accuracy: 0.4889 - 2s/epoch - 198ms/step\n",
            "Epoch 28/100\n",
            "12/12 - 2s - loss: 0.6967 - accuracy: 0.6801 - val_loss: 1.2369 - val_accuracy: 0.3889 - 2s/epoch - 197ms/step\n",
            "Epoch 29/100\n",
            "12/12 - 2s - loss: 0.7458 - accuracy: 0.6330 - val_loss: 0.8314 - val_accuracy: 0.5222 - 2s/epoch - 198ms/step\n",
            "Epoch 30/100\n",
            "12/12 - 2s - loss: 0.7166 - accuracy: 0.6731 - val_loss: 0.8252 - val_accuracy: 0.5667 - 2s/epoch - 197ms/step\n",
            "Epoch 31/100\n",
            "12/12 - 2s - loss: 0.6838 - accuracy: 0.6842 - val_loss: 0.8212 - val_accuracy: 0.5667 - 2s/epoch - 198ms/step\n",
            "Epoch 32/100\n",
            "12/12 - 2s - loss: 0.6821 - accuracy: 0.6911 - val_loss: 0.7968 - val_accuracy: 0.6667 - 2s/epoch - 198ms/step\n",
            "Epoch 33/100\n",
            "12/12 - 2s - loss: 0.6585 - accuracy: 0.7147 - val_loss: 0.7141 - val_accuracy: 0.6111 - 2s/epoch - 199ms/step\n",
            "Epoch 34/100\n",
            "12/12 - 2s - loss: 0.6870 - accuracy: 0.6620 - val_loss: 1.2254 - val_accuracy: 0.6111 - 2s/epoch - 199ms/step\n",
            "Epoch 35/100\n",
            "12/12 - 2s - loss: 0.6840 - accuracy: 0.6884 - val_loss: 0.9532 - val_accuracy: 0.4333 - 2s/epoch - 199ms/step\n",
            "Epoch 36/100\n",
            "12/12 - 2s - loss: 0.6394 - accuracy: 0.6870 - val_loss: 0.7904 - val_accuracy: 0.6444 - 2s/epoch - 200ms/step\n",
            "Epoch 37/100\n",
            "12/12 - 2s - loss: 0.6728 - accuracy: 0.6870 - val_loss: 0.7613 - val_accuracy: 0.5889 - 2s/epoch - 200ms/step\n",
            "Epoch 38/100\n",
            "12/12 - 2s - loss: 0.6566 - accuracy: 0.6870 - val_loss: 1.0627 - val_accuracy: 0.4333 - 2s/epoch - 202ms/step\n",
            "Epoch 39/100\n",
            "12/12 - 2s - loss: 0.6612 - accuracy: 0.6801 - val_loss: 0.8466 - val_accuracy: 0.5556 - 2s/epoch - 202ms/step\n",
            "Epoch 40/100\n",
            "12/12 - 2s - loss: 0.6425 - accuracy: 0.6981 - val_loss: 0.8230 - val_accuracy: 0.6333 - 2s/epoch - 203ms/step\n",
            "Epoch 41/100\n",
            "12/12 - 2s - loss: 0.6046 - accuracy: 0.7008 - val_loss: 0.7563 - val_accuracy: 0.6333 - 2s/epoch - 203ms/step\n",
            "Epoch 42/100\n",
            "12/12 - 2s - loss: 0.5892 - accuracy: 0.7438 - val_loss: 0.7497 - val_accuracy: 0.7444 - 2s/epoch - 203ms/step\n",
            "Epoch 43/100\n",
            "12/12 - 2s - loss: 0.6128 - accuracy: 0.7493 - val_loss: 0.8247 - val_accuracy: 0.6444 - 2s/epoch - 204ms/step\n",
            "Epoch 44/100\n",
            "12/12 - 2s - loss: 0.6661 - accuracy: 0.6759 - val_loss: 0.8030 - val_accuracy: 0.6556 - 2s/epoch - 205ms/step\n",
            "Epoch 45/100\n",
            "12/12 - 2s - loss: 0.5942 - accuracy: 0.7382 - val_loss: 0.6623 - val_accuracy: 0.6222 - 2s/epoch - 205ms/step\n",
            "Epoch 46/100\n",
            "12/12 - 2s - loss: 0.6068 - accuracy: 0.7230 - val_loss: 0.9538 - val_accuracy: 0.5444 - 2s/epoch - 205ms/step\n",
            "Epoch 47/100\n",
            "12/12 - 2s - loss: 0.5746 - accuracy: 0.7271 - val_loss: 1.1970 - val_accuracy: 0.6222 - 2s/epoch - 207ms/step\n",
            "Epoch 48/100\n",
            "12/12 - 2s - loss: 0.5867 - accuracy: 0.7230 - val_loss: 0.9095 - val_accuracy: 0.6111 - 2s/epoch - 207ms/step\n",
            "Epoch 49/100\n",
            "12/12 - 2s - loss: 0.6031 - accuracy: 0.7119 - val_loss: 0.9878 - val_accuracy: 0.6444 - 2s/epoch - 207ms/step\n",
            "Epoch 50/100\n",
            "12/12 - 3s - loss: 0.5817 - accuracy: 0.7424 - val_loss: 1.4451 - val_accuracy: 0.6444 - 3s/epoch - 209ms/step\n",
            "Epoch 51/100\n",
            "12/12 - 3s - loss: 0.5472 - accuracy: 0.7576 - val_loss: 1.2382 - val_accuracy: 0.6556 - 3s/epoch - 209ms/step\n",
            "Epoch 52/100\n",
            "12/12 - 3s - loss: 0.5342 - accuracy: 0.7590 - val_loss: 1.5115 - val_accuracy: 0.6222 - 3s/epoch - 209ms/step\n",
            "Epoch 53/100\n",
            "12/12 - 3s - loss: 0.6189 - accuracy: 0.7258 - val_loss: 1.6253 - val_accuracy: 0.5556 - 3s/epoch - 210ms/step\n",
            "Epoch 54/100\n",
            "12/12 - 3s - loss: 0.6211 - accuracy: 0.7285 - val_loss: 1.0448 - val_accuracy: 0.5778 - 3s/epoch - 211ms/step\n",
            "Epoch 55/100\n",
            "12/12 - 3s - loss: 0.5638 - accuracy: 0.7535 - val_loss: 0.6221 - val_accuracy: 0.7111 - 3s/epoch - 210ms/step\n",
            "Epoch 56/100\n",
            "12/12 - 3s - loss: 0.5710 - accuracy: 0.7562 - val_loss: 1.0657 - val_accuracy: 0.6889 - 3s/epoch - 210ms/step\n",
            "Epoch 57/100\n",
            "12/12 - 3s - loss: 0.5409 - accuracy: 0.7562 - val_loss: 0.6354 - val_accuracy: 0.7333 - 3s/epoch - 211ms/step\n",
            "Epoch 58/100\n",
            "12/12 - 3s - loss: 0.5540 - accuracy: 0.7673 - val_loss: 0.9440 - val_accuracy: 0.5222 - 3s/epoch - 210ms/step\n",
            "Epoch 59/100\n",
            "12/12 - 3s - loss: 0.5415 - accuracy: 0.7618 - val_loss: 1.0076 - val_accuracy: 0.5333 - 3s/epoch - 210ms/step\n",
            "Epoch 60/100\n",
            "12/12 - 3s - loss: 0.5624 - accuracy: 0.7701 - val_loss: 0.6866 - val_accuracy: 0.6556 - 3s/epoch - 210ms/step\n",
            "Epoch 61/100\n",
            "12/12 - 3s - loss: 0.5212 - accuracy: 0.7742 - val_loss: 0.6241 - val_accuracy: 0.7000 - 3s/epoch - 209ms/step\n",
            "Epoch 62/100\n",
            "12/12 - 3s - loss: 0.5260 - accuracy: 0.7812 - val_loss: 0.6116 - val_accuracy: 0.7000 - 3s/epoch - 208ms/step\n",
            "Epoch 63/100\n",
            "12/12 - 2s - loss: 0.5010 - accuracy: 0.7729 - val_loss: 1.1063 - val_accuracy: 0.6111 - 2s/epoch - 208ms/step\n",
            "Epoch 64/100\n",
            "12/12 - 2s - loss: 0.5119 - accuracy: 0.7687 - val_loss: 1.1796 - val_accuracy: 0.6333 - 2s/epoch - 208ms/step\n",
            "Epoch 65/100\n",
            "12/12 - 2s - loss: 0.5061 - accuracy: 0.7895 - val_loss: 0.7157 - val_accuracy: 0.6667 - 2s/epoch - 207ms/step\n",
            "Epoch 66/100\n",
            "12/12 - 2s - loss: 0.4889 - accuracy: 0.8075 - val_loss: 1.1591 - val_accuracy: 0.5444 - 2s/epoch - 207ms/step\n",
            "Epoch 67/100\n",
            "12/12 - 2s - loss: 0.5685 - accuracy: 0.7604 - val_loss: 1.8518 - val_accuracy: 0.5111 - 2s/epoch - 207ms/step\n",
            "Epoch 68/100\n",
            "12/12 - 2s - loss: 0.6069 - accuracy: 0.7424 - val_loss: 1.8060 - val_accuracy: 0.5556 - 2s/epoch - 207ms/step\n",
            "Epoch 69/100\n",
            "12/12 - 2s - loss: 0.5710 - accuracy: 0.7479 - val_loss: 1.2923 - val_accuracy: 0.6222 - 2s/epoch - 206ms/step\n",
            "Epoch 70/100\n",
            "12/12 - 2s - loss: 0.5722 - accuracy: 0.7479 - val_loss: 2.6531 - val_accuracy: 0.5667 - 2s/epoch - 207ms/step\n",
            "Epoch 71/100\n",
            "12/12 - 2s - loss: 0.4987 - accuracy: 0.7909 - val_loss: 0.6587 - val_accuracy: 0.7111 - 2s/epoch - 206ms/step\n",
            "Epoch 72/100\n",
            "12/12 - 2s - loss: 0.4953 - accuracy: 0.7867 - val_loss: 0.9400 - val_accuracy: 0.6556 - 2s/epoch - 206ms/step\n",
            "Epoch 73/100\n",
            "12/12 - 2s - loss: 0.4591 - accuracy: 0.8186 - val_loss: 0.7580 - val_accuracy: 0.6333 - 2s/epoch - 206ms/step\n",
            "Epoch 74/100\n",
            "12/12 - 2s - loss: 0.4683 - accuracy: 0.8006 - val_loss: 0.6608 - val_accuracy: 0.7222 - 2s/epoch - 205ms/step\n",
            "Epoch 75/100\n",
            "12/12 - 2s - loss: 0.4437 - accuracy: 0.8283 - val_loss: 0.7313 - val_accuracy: 0.6778 - 2s/epoch - 206ms/step\n",
            "Epoch 76/100\n",
            "12/12 - 2s - loss: 0.4523 - accuracy: 0.8102 - val_loss: 0.7874 - val_accuracy: 0.6778 - 2s/epoch - 207ms/step\n",
            "Epoch 77/100\n",
            "12/12 - 2s - loss: 0.4350 - accuracy: 0.8227 - val_loss: 0.6882 - val_accuracy: 0.6889 - 2s/epoch - 206ms/step\n",
            "Epoch 78/100\n",
            "12/12 - 2s - loss: 0.4236 - accuracy: 0.8241 - val_loss: 0.9273 - val_accuracy: 0.6333 - 2s/epoch - 207ms/step\n",
            "Epoch 79/100\n",
            "12/12 - 2s - loss: 0.4304 - accuracy: 0.8102 - val_loss: 0.6835 - val_accuracy: 0.7333 - 2s/epoch - 206ms/step\n",
            "Epoch 80/100\n",
            "12/12 - 2s - loss: 0.4335 - accuracy: 0.8283 - val_loss: 0.7831 - val_accuracy: 0.6556 - 2s/epoch - 207ms/step\n",
            "Epoch 81/100\n",
            "12/12 - 2s - loss: 0.4051 - accuracy: 0.8407 - val_loss: 0.6931 - val_accuracy: 0.7111 - 2s/epoch - 206ms/step\n",
            "Epoch 82/100\n",
            "12/12 - 2s - loss: 0.4501 - accuracy: 0.8158 - val_loss: 1.1061 - val_accuracy: 0.6000 - 2s/epoch - 206ms/step\n",
            "Epoch 83/100\n",
            "12/12 - 2s - loss: 0.5099 - accuracy: 0.7867 - val_loss: 0.8801 - val_accuracy: 0.6556 - 2s/epoch - 206ms/step\n",
            "Epoch 84/100\n",
            "12/12 - 2s - loss: 0.4501 - accuracy: 0.8255 - val_loss: 1.0587 - val_accuracy: 0.6778 - 2s/epoch - 206ms/step\n",
            "Epoch 85/100\n",
            "12/12 - 2s - loss: 0.3816 - accuracy: 0.8407 - val_loss: 1.2679 - val_accuracy: 0.6000 - 2s/epoch - 206ms/step\n",
            "Epoch 86/100\n",
            "12/12 - 2s - loss: 0.4389 - accuracy: 0.8186 - val_loss: 0.8297 - val_accuracy: 0.7333 - 2s/epoch - 206ms/step\n",
            "Epoch 87/100\n",
            "12/12 - 2s - loss: 0.4017 - accuracy: 0.8310 - val_loss: 1.4733 - val_accuracy: 0.4667 - 2s/epoch - 206ms/step\n",
            "Epoch 88/100\n",
            "12/12 - 2s - loss: 0.4102 - accuracy: 0.8352 - val_loss: 1.0996 - val_accuracy: 0.6222 - 2s/epoch - 207ms/step\n",
            "Epoch 89/100\n",
            "12/12 - 2s - loss: 0.3935 - accuracy: 0.8449 - val_loss: 0.9870 - val_accuracy: 0.6444 - 2s/epoch - 207ms/step\n",
            "Epoch 90/100\n",
            "12/12 - 2s - loss: 0.3798 - accuracy: 0.8573 - val_loss: 0.7147 - val_accuracy: 0.7556 - 2s/epoch - 207ms/step\n",
            "Epoch 91/100\n",
            "12/12 - 2s - loss: 0.3581 - accuracy: 0.8463 - val_loss: 0.6824 - val_accuracy: 0.7556 - 2s/epoch - 208ms/step\n",
            "Epoch 92/100\n",
            "12/12 - 2s - loss: 0.3643 - accuracy: 0.8587 - val_loss: 0.5943 - val_accuracy: 0.7778 - 2s/epoch - 207ms/step\n",
            "Epoch 93/100\n",
            "12/12 - 2s - loss: 0.3778 - accuracy: 0.8407 - val_loss: 0.7887 - val_accuracy: 0.6444 - 2s/epoch - 207ms/step\n",
            "Epoch 94/100\n",
            "12/12 - 2s - loss: 0.3786 - accuracy: 0.8435 - val_loss: 0.7447 - val_accuracy: 0.7333 - 2s/epoch - 207ms/step\n",
            "Epoch 95/100\n",
            "12/12 - 2s - loss: 0.3634 - accuracy: 0.8657 - val_loss: 0.6278 - val_accuracy: 0.7667 - 2s/epoch - 208ms/step\n",
            "Epoch 96/100\n",
            "12/12 - 3s - loss: 0.4478 - accuracy: 0.8283 - val_loss: 2.6658 - val_accuracy: 0.5000 - 3s/epoch - 208ms/step\n",
            "Epoch 97/100\n",
            "12/12 - 3s - loss: 0.3785 - accuracy: 0.8573 - val_loss: 1.4248 - val_accuracy: 0.6333 - 3s/epoch - 209ms/step\n",
            "Epoch 98/100\n",
            "12/12 - 2s - loss: 0.3859 - accuracy: 0.8463 - val_loss: 0.8227 - val_accuracy: 0.7000 - 2s/epoch - 208ms/step\n",
            "Epoch 99/100\n",
            "12/12 - 3s - loss: 0.3816 - accuracy: 0.8366 - val_loss: 0.9369 - val_accuracy: 0.6000 - 3s/epoch - 209ms/step\n",
            "Epoch 100/100\n",
            "12/12 - 2s - loss: 0.3898 - accuracy: 0.8490 - val_loss: 0.6630 - val_accuracy: 0.6889 - 2s/epoch - 208ms/step\n",
            "Tiempo de procesamiento (secs):  0 horas 4 minutos y 12 segundos\n"
          ]
        }
      ],
      "source": [
        "tic=tempo.time()\n",
        "\n",
        "history = model.fit(x         = train_images, \n",
        "                    y         = train_labels, \n",
        "                    epochs    = EPOCAS, \n",
        "                    shuffle   = True,\n",
        "                    batch_size= 64,\n",
        "                    validation_data=  (val_images, val_labels),\n",
        "                    verbose   = 2)\n",
        "\n",
        "print('Tiempo de procesamiento (secs): ', enHorasYMinutos(tempo.time()-tic))"
      ]
    },
    {
      "cell_type": "code",
      "execution_count": null,
      "metadata": {
        "id": "f6OmNTOgJsQt",
        "colab": {
          "base_uri": "https://localhost:8080/",
          "height": 718
        },
        "outputId": "3a990c1d-577d-46df-ae94-1cf3d4293644"
      },
      "outputs": [
        {
          "output_type": "display_data",
          "data": {
            "text/plain": [
              "<Figure size 864x360 with 1 Axes>"
            ],
            "image/png": "[encoded data removed]"
          },
          "metadata": {
            "needs_background": "light"
          }
        },
        {
          "output_type": "display_data",
          "data": {
            "text/plain": [
              "<Figure size 864x360 with 1 Axes>"
            ],
            "image/png": "[encoded data removed]"
          },
          "metadata": {
            "needs_background": "light"
          }
        },
        {
          "output_type": "stream",
          "name": "stdout",
          "text": [
            "3/3 [==============================] - 1s 198ms/step - loss: 0.6477 - accuracy: 0.6782\n",
            "[0.6476829051971436, 0.6781609058380127]\n"
          ]
        }
      ],
      "source": [
        "history_dict = history.history\n",
        "dictkeys=list(history_dict.keys())\n",
        "# Mostrar resultados.\n",
        "\n",
        "loss_values     = history.history['loss']\n",
        "val_loss_values = history.history['val_loss']\n",
        "epochs = range(1, len(loss_values) + 1)\n",
        "\n",
        "plt.figure(figsize=(12,5))\n",
        "plt.plot(epochs, loss_values, 'b', label='Training loss')\n",
        "plt.plot(epochs, val_loss_values, 'g', label='Validation loss')\n",
        "plt.title('Valor de la función objetivo (loss) en conjuntos de en entrenamiento y validación')\n",
        "plt.xlabel('Epocas')\n",
        "plt.ylabel('')\n",
        "plt.hlines(y=.078, xmin=0, xmax=EPOCAS, colors='k', linestyles='dashed')\n",
        "plt.legend()\n",
        "\n",
        "plt.show()\n",
        "\n",
        "\n",
        "acc_values = history_dict['accuracy']\n",
        "val_acc_values = history_dict['val_accuracy']\n",
        "\n",
        "plt.figure(figsize=(12,5))\n",
        "plt.plot(epochs, acc_values, 'b', label='Accuracy')\n",
        "plt.plot(epochs, val_acc_values, 'g', label='Validation accuracy')\n",
        "plt.title('Training and validation accuracy')\n",
        "plt.xlabel('Epochs')\n",
        "plt.ylabel('Loss')\n",
        "plt.hlines(y=.982, xmin=0, xmax=EPOCAS, colors='k', linestyles='dashed')\n",
        "plt.legend()\n",
        "\n",
        "plt.show()\n",
        "\n",
        "results = model.evaluate(test_images, test_labels)\n",
        "print(results)"
      ]
    },
    {
      "cell_type": "code",
      "source": [
        "classes= [0,1,2]"
      ],
      "metadata": {
        "id": "ACvPKeI-rCTD"
      },
      "execution_count": null,
      "outputs": []
    },
    {
      "cell_type": "code",
      "source": [
        "y_pred=model.predict(test_images)\n",
        "\n",
        "con_mat = tf.math.confusion_matrix(labels=np.argmax(test_labels,axis=1), predictions=np.argmax(y_pred,axis=1)).numpy()\n",
        "\n",
        "con_mat_norm = np.around(con_mat.astype('float') / con_mat.sum(axis=1)[:, np.newaxis], decimals=2)\n",
        "\n",
        "con_mat_df = pd.DataFrame(con_mat_norm,\n",
        "                     index = classes, \n",
        "                     columns = classes)\n",
        "figure = plt.figure(figsize=(8, 8))\n",
        "sns.heatmap(con_mat_df, annot=True,cmap=plt.cm.Blues)\n",
        "plt.tight_layout()\n",
        "plt.ylabel('True label')\n",
        "plt.xlabel('Predicted label')\n",
        "plt.show()\n",
        "print(leyenda)"
      ],
      "metadata": {
        "id": "dePAttq_rHva",
        "colab": {
          "base_uri": "https://localhost:8080/"
        },
        "outputId": "6be92075-9516-4608-eeca-7190a8a79ec9"
      },
      "execution_count": null,
      "outputs": [
        {
          "output_type": "display_data",
          "data": {
            "text/plain": [
              "<Figure size 576x576 with 2 Axes>"
            ],
            "image/png": "[encoded data removed]"
          },
          "metadata": {
            "needs_background": "light"
          }
        },
        {
          "output_type": "stream",
          "name": "stdout",
          "text": [
            "{}\n"
          ]
        }
      ]
    }
  ]
}